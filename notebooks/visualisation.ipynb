{
 "cells": [
  {
   "cell_type": "code",
   "execution_count": null,
   "metadata": {},
   "outputs": [],
   "source": [
    "import os\n",
    "from diffusers.pipelines import ScoreSdeVePipeline\n",
    "import torch\n",
    "from torchvision.io import read_image\n",
    "from torchmetrics.image.lpip import LearnedPerceptualImagePatchSimilarity\n",
    "from torchmetrics.image.ssim import StructuralSimilarityIndexMeasure\n",
    "from mvp_score_modelling.utils import (crop,resize, plt_img)\n",
    "from mvp_score_modelling.pipelines.utils import VeTweedie\n",
    "from matplotlib import pyplot as plt\n",
    "\n",
    "DEVICE = 'cuda' if torch.cuda.is_available() else 'cpu'\n",
    "FIGURES_DIRECTORY = '../figures/'\n",
    "\n",
    "lpips = LearnedPerceptualImagePatchSimilarity().to(DEVICE)\n",
    "def lpips_eval(img, reference):\n",
    "    return round(lpips(reference, img.to(DEVICE)).item(), 4)\n",
    "\n",
    "ssim = StructuralSimilarityIndexMeasure().to(DEVICE)\n",
    "def ssim_eval(img, reference):\n",
    "    return round(ssim(reference, img.to(DEVICE)).item(), 4)"
   ]
  },
  {
   "cell_type": "code",
   "execution_count": null,
   "metadata": {},
   "outputs": [],
   "source": [
    "PRETRAINED = \"google/ncsnpp-celebahq-256\"\n",
    "EVAL_IMAGE = \"data/test_celabhq.png\"\n",
    "\n",
    "eval_img = crop(resize(read_image(EVAL_IMAGE))) / 256\n",
    "eval_img = eval_img.to(DEVICE)\n",
    "\n",
    "unconditional_pipeline: ScoreSdeVePipeline = ScoreSdeVePipeline.from_pretrained(PRETRAINED).to(device=DEVICE)\n",
    "tweedie = VeTweedie(unconditional_pipeline.unet)\n",
    "sigma = unconditional_pipeline.scheduler.sigmas[800]\n",
    "z = torch.randn_like(eval_img) * sigma\n",
    "noised_eval_image = eval_img + z\n"
   ]
  },
  {
   "cell_type": "code",
   "execution_count": null,
   "metadata": {},
   "outputs": [],
   "source": [
    "# Tweedie\n",
    "\n",
    "fig, axs = plt.subplots(1,3)\n",
    "for ax in axs:\n",
    "    ax.axis('off')\n",
    "\n",
    "axs[0].set_title(\"Original\")\n",
    "axs[0].text(0,300,\"lpips\")\n",
    "axs[0].text(0,340,\"ssim\")\n",
    "plt_img(axs[0], eval_img)\n",
    "\n",
    "axs[1].set_title(f\"Noise Clipped (σ {round(sigma.item(), 3)})\")\n",
    "axs[1].text(0,300,lpips_eval(noised_eval_image.unsqueeze(0).clamp(0,1), eval_img.unsqueeze(0)))\n",
    "axs[1].text(0,340,ssim_eval(noised_eval_image.unsqueeze(0).clamp(0,1), eval_img.unsqueeze(0)))\n",
    "plt_img(axs[1], noised_eval_image)\n",
    "\n",
    "axs[2].set_title(\"Tweedie\")\n",
    "tw = tweedie(noised_eval_image, sigma)\n",
    "axs[2].text(0,300,lpips_eval(tw, eval_img.unsqueeze(0)))\n",
    "axs[2].text(0,340,ssim_eval(tw, eval_img.unsqueeze(0)))\n",
    "plt_img(axs[2], tw.squeeze())\n",
    "\n",
    "\n",
    "plt.subplots_adjust(left=0, right=1, top=1, bottom=0)\n",
    "plt.savefig(os.path.join(FIGURES_DIRECTORY, \"tweedie.png\"),bbox_inches='tight', transparent=\"True\", pad_inches=0)\n"
   ]
  }
 ],
 "metadata": {
  "kernelspec": {
   "display_name": "venv311",
   "language": "python",
   "name": "python3"
  },
  "language_info": {
   "codemirror_mode": {
    "name": "ipython",
    "version": 3
   },
   "file_extension": ".py",
   "mimetype": "text/x-python",
   "name": "python",
   "nbconvert_exporter": "python",
   "pygments_lexer": "ipython3",
   "version": "3.11.5"
  }
 },
 "nbformat": 4,
 "nbformat_minor": 2
}
