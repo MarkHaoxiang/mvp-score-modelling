{
 "cells": [
  {
   "cell_type": "code",
   "execution_count": null,
   "metadata": {},
   "outputs": [],
   "source": [
    "import os\n",
    "import pickle\n",
    "\n",
    "from datasets import load_dataset, Dataset, DatasetDict\n",
    "from diffusers.pipelines import ScoreSdeVePipeline\n",
    "import torch\n",
    "from torchvision.io import read_image\n",
    "from torchmetrics.image.lpip import LearnedPerceptualImagePatchSimilarity\n",
    "from torchmetrics.image.ssim import StructuralSimilarityIndexMeasure\n",
    "from mvp_score_modelling.utils import (crop,resize, plt_img)\n",
    "from mvp_score_modelling.pipelines.utils import VeTweedie\n",
    "from matplotlib import pyplot as plt\n",
    "from PIL.Image import Image\n",
    "from mvp_score_modelling.pipelines.inpainting import MaskGenerator\n",
    "from mvp_score_modelling.utils import tensor_to_PIL, plt_img\n",
    "\n",
    "DEVICE = 'cuda' if torch.cuda.is_available() else 'cpu'\n",
    "FIGURES_DIRECTORY = '../figures/'\n",
    "\n",
    "lpips = LearnedPerceptualImagePatchSimilarity().to(DEVICE)\n",
    "def lpips_eval(img, reference):\n",
    "    return round(lpips(reference, img.to(DEVICE)).item(), 4)\n",
    "\n",
    "ssim = StructuralSimilarityIndexMeasure().to(DEVICE)\n",
    "def ssim_eval(img, reference):\n",
    "    return round(ssim(reference, img.to(DEVICE)).item(), 4)"
   ]
  },
  {
   "cell_type": "code",
   "execution_count": null,
   "metadata": {},
   "outputs": [],
   "source": [
    "# PRETRAINED = \"google/ncsnpp-celebahq-256\"\n",
    "PRETRAINED = \"google/ncsnpp-church-256\"\n",
    "# EVAL_IMAGE = \"data/test_celabhq.png\"\n",
    "EVAL_IMAGE = \"data/church/1.png\"\n",
    "\n",
    "eval_img = crop(resize(read_image(EVAL_IMAGE))) / 256\n",
    "eval_img = eval_img.to(DEVICE)\n",
    "\n",
    "unconditional_pipeline: ScoreSdeVePipeline = ScoreSdeVePipeline.from_pretrained(PRETRAINED).to(device=DEVICE)\n",
    "tweedie = VeTweedie(unconditional_pipeline.unet)\n",
    "sigma = unconditional_pipeline.scheduler.sigmas[800]\n",
    "z = torch.randn_like(eval_img) * sigma\n",
    "noised_eval_image = eval_img + z\n"
   ]
  },
  {
   "cell_type": "markdown",
   "metadata": {},
   "source": [
    "# Generate Qualitative Sample Images"
   ]
  },
  {
   "cell_type": "code",
   "execution_count": null,
   "metadata": {},
   "outputs": [],
   "source": [
    "# Loading ground truth\n",
    "\n",
    "# DATASET_SOURCE = \"Ryan-sjtu/celebahq-caption\"\n",
    "DATASET_SOURCE = \"tglcourse/lsun_church_train\"\n",
    "#STORE_LOCATION = 'data/celab'\n",
    "STORE_LOCATION = 'data/church'\n",
    "\n",
    "dataset: Dataset = load_dataset(DATASET_SOURCE)['train']\n",
    "\n",
    "idxs = [1,10,100,1000,10000]\n",
    "for i in idxs:\n",
    "    image: Image = dataset[i]['image']\n",
    "    image.save(os.path.join(STORE_LOCATION, f\"{i}.png\"))"
   ]
  },
  {
   "cell_type": "code",
   "execution_count": null,
   "metadata": {},
   "outputs": [],
   "source": [
    "# Utils\n",
    "def run_pipelines(y, pipelines, unet, scheduler, inference_steps = 1000):\n",
    "    images = []\n",
    "    for p_class in pipelines:\n",
    "        pipeline = p_class(unet, scheduler)\n",
    "        img = pipeline(\n",
    "            y,\n",
    "            num_inference_steps=inference_steps,\n",
    "            output_type=None\n",
    "        )[0]\n",
    "        images.append(img)\n",
    "    return images"
   ]
  },
  {
   "cell_type": "code",
   "execution_count": null,
   "metadata": {},
   "outputs": [],
   "source": [
    "# Random mask\n",
    "from mvp_score_modelling.pipelines.inpainting import (\n",
    "    PrYtGuidedInpaintingPipeline,\n",
    "    InpaintingProjectionPipeline,\n",
    "    ManifoldConstrainedGradientInpaintingPipeline,\n",
    "    PseudoinverseGuidedInpaintingPipeline\n",
    ")\n",
    "\n",
    "pipelines = [\n",
    "    InpaintingProjectionPipeline,\n",
    "    PrYtGuidedInpaintingPipeline,\n",
    "    PseudoinverseGuidedInpaintingPipeline,\n",
    "    ManifoldConstrainedGradientInpaintingPipeline\n",
    "]\n",
    "torch.manual_seed(0)\n",
    "\n",
    "mask_gen = MaskGenerator((1,3,256,256), device=DEVICE)\n",
    "random_mask = mask_gen.generate_random_mask()\n",
    "\n",
    "# random_mask_image = read_image('data/celab/1.png')\n",
    "random_mask_image = read_image('data/church/1.png')\n",
    "random_mask_image = crop(resize(random_mask_image)) / 256\n",
    "random_mask_image = random_mask_image.to(DEVICE)\n",
    "\n",
    "random_mask_results = run_pipelines(\n",
    "    (random_mask_image.unsqueeze(0) , random_mask),\n",
    "    pipelines,\n",
    "    unconditional_pipeline.unet,\n",
    "    unconditional_pipeline.scheduler,\n",
    "    inference_steps=1000\n",
    ")"
   ]
  },
  {
   "cell_type": "code",
   "execution_count": null,
   "metadata": {},
   "outputs": [],
   "source": [
    "with open(\"../output/test_images/church_random_mask_results.pkl\", 'wb') as f:\n",
    "    pickle.dump(random_mask_results, f)\n",
    "    # random_mask_results = pickle.load(f)"
   ]
  },
  {
   "cell_type": "code",
   "execution_count": null,
   "metadata": {},
   "outputs": [],
   "source": [
    "display(*[tensor_to_PIL(img) for img in random_mask_results])"
   ]
  },
  {
   "cell_type": "code",
   "execution_count": null,
   "metadata": {},
   "outputs": [],
   "source": [
    "# Box Mask\n",
    "torch.manual_seed(0)\n",
    "pipelines = [\n",
    "    InpaintingProjectionPipeline,\n",
    "    PrYtGuidedInpaintingPipeline,\n",
    "    PseudoinverseGuidedInpaintingPipeline,\n",
    "    ManifoldConstrainedGradientInpaintingPipeline\n",
    "]\n",
    "\n",
    "box_mask = mask_gen.generate_box_mask(size= 80)\n",
    "\n",
    "box_mask_image = read_image('data/church/1000.png')\n",
    "box_mask_image = crop(resize(box_mask_image)) / 256\n",
    "box_mask_image = box_mask_image.to(DEVICE)\n",
    "\n",
    "box_mask_results = run_pipelines(\n",
    "    (box_mask_image.unsqueeze(0) , box_mask),\n",
    "    pipelines,\n",
    "    unconditional_pipeline.unet,\n",
    "    unconditional_pipeline.scheduler,\n",
    "    inference_steps=1000\n",
    ")"
   ]
  },
  {
   "cell_type": "code",
   "execution_count": null,
   "metadata": {},
   "outputs": [],
   "source": [
    "with open(\"../output/test_images/church_box_mask_results.pkl\", 'wb') as f:\n",
    "    pickle.dump(box_mask_results, f)\n",
    "    #box_mask_results_2 = pickle.load(f)"
   ]
  },
  {
   "cell_type": "code",
   "execution_count": null,
   "metadata": {},
   "outputs": [],
   "source": [
    "# Box Mask\n",
    "torch.manual_seed(0)\n",
    "pipelines = [\n",
    "    InpaintingProjectionPipeline,\n",
    "    PrYtGuidedInpaintingPipeline,\n",
    "    PseudoinverseGuidedInpaintingPipeline,\n",
    "    ManifoldConstrainedGradientInpaintingPipeline\n",
    "]\n",
    "\n",
    "box_mask_2 = mask_gen.generate_box_mask(size= 80)\n",
    "box_mask_2 = 1 - box_mask_2\n",
    "box_mask_image_2 = read_image('data/church/10000.png')\n",
    "box_mask_image_2 = crop(resize(box_mask_image_2)) / 256\n",
    "box_mask_image_2 = box_mask_image_2.to(DEVICE)\n",
    "\n",
    "box_mask_results_2 = run_pipelines(\n",
    "    (box_mask_image_2.unsqueeze(0) , box_mask_2),\n",
    "    pipelines,\n",
    "    unconditional_pipeline.unet,\n",
    "    unconditional_pipeline.scheduler,\n",
    "    inference_steps=1000\n",
    ")"
   ]
  },
  {
   "cell_type": "code",
   "execution_count": null,
   "metadata": {},
   "outputs": [],
   "source": [
    "tensor_to_PIL(box_mask_2 * box_mask_image_2)"
   ]
  },
  {
   "cell_type": "code",
   "execution_count": null,
   "metadata": {},
   "outputs": [],
   "source": [
    "display(*[tensor_to_PIL(img) for img in box_mask_results_2])"
   ]
  },
  {
   "cell_type": "code",
   "execution_count": null,
   "metadata": {},
   "outputs": [],
   "source": [
    "with open(\"../output/test_images/church_box_mask_results_2.pkl\", 'wb') as f:\n",
    "    pickle.dump(box_mask_results_2, f)\n",
    "    #box_mask_results_2 = pickle.load(f)"
   ]
  },
  {
   "cell_type": "code",
   "execution_count": null,
   "metadata": {},
   "outputs": [],
   "source": [
    "# Super resolution\n",
    "from mvp_score_modelling.pipelines.super_resolution import (\n",
    "    SuperResolutionProjectionPipeline,\n",
    "    PrYtGuidedSuperResolutionPipeline,\n",
    "    PseudoinverseGuidedSuperResolutionPipeline,\n",
    "    ManifoldConstrainedGradientSuperResolutionPipeline\n",
    ")\n",
    "\n",
    "pipelines = [\n",
    "    SuperResolutionProjectionPipeline,\n",
    "    PrYtGuidedSuperResolutionPipeline,\n",
    "    PseudoinverseGuidedSuperResolutionPipeline,\n",
    "    ManifoldConstrainedGradientSuperResolutionPipeline\n",
    "]\n",
    "torch.manual_seed(0)\n",
    "\n",
    "KERNEL_SIZE = 16\n",
    "pool = torch.nn.AvgPool2d(kernel_size=KERNEL_SIZE, stride=KERNEL_SIZE)\n",
    "\n",
    "super_resolution_image = read_image('data/church/100.png')\n",
    "super_resolution_image = crop(resize(super_resolution_image)) / 256\n",
    "super_resolution_image =super_resolution_image.to(DEVICE)\n",
    "\n",
    "super_resolution_results = run_pipelines(\n",
    "    y = (pool(super_resolution_image), KERNEL_SIZE),\n",
    "    pipelines = pipelines,\n",
    "    unet=unconditional_pipeline.unet,\n",
    "    scheduler=unconditional_pipeline.scheduler\n",
    ")"
   ]
  },
  {
   "cell_type": "code",
   "execution_count": null,
   "metadata": {},
   "outputs": [],
   "source": [
    "display(*[tensor_to_PIL(img) for img in super_resolution_results])"
   ]
  },
  {
   "cell_type": "code",
   "execution_count": null,
   "metadata": {},
   "outputs": [],
   "source": [
    "with open(\"../output/test_images/church_super_resolution_results.pkl\", 'wb') as f:\n",
    "    pickle.dump(super_resolution_results, f)\n",
    "    # random_mask_results = pickle.load(f)"
   ]
  },
  {
   "cell_type": "code",
   "execution_count": null,
   "metadata": {},
   "outputs": [],
   "source": [
    "# Colorisation\n",
    "from mvp_score_modelling.pipelines.colorisation import (\n",
    "    ColorisationProjectionPipeline,\n",
    "    PrYtGuidedColorisationPipeline,\n",
    "    ManifoldConstrainedGradientColorisationPipeline,\n",
    "    PseudoinverseGuidedColorisationPipeline,\n",
    "    greyscale\n",
    ")\n",
    "pipelines = [\n",
    "    ColorisationProjectionPipeline,\n",
    "    PrYtGuidedColorisationPipeline,\n",
    "    PseudoinverseGuidedColorisationPipeline,\n",
    "    ManifoldConstrainedGradientColorisationPipeline\n",
    "]\n",
    "torch.manual_seed(0)\n",
    "\n",
    "\n",
    "colorisation_image = read_image('data/church/10.png')\n",
    "colorisation_image = crop(resize(colorisation_image)) / 256\n",
    "colorisation_image = colorisation_image.to(DEVICE)\n",
    "grey = greyscale(colorisation_image)\n",
    "\n",
    "colorisation_results = run_pipelines(\n",
    "    y = grey,\n",
    "    pipelines = pipelines,\n",
    "    unet=unconditional_pipeline.unet,\n",
    "    scheduler=unconditional_pipeline.scheduler\n",
    ")"
   ]
  },
  {
   "cell_type": "code",
   "execution_count": null,
   "metadata": {},
   "outputs": [],
   "source": [
    "with open(\"../output/test_images/church_colorisation_results.pkl\", 'wb') as f:\n",
    "    pickle.dump(colorisation_results, f)\n",
    "    # random_mask_results = pickle.load(f)"
   ]
  },
  {
   "cell_type": "code",
   "execution_count": null,
   "metadata": {},
   "outputs": [],
   "source": [
    "display(*[tensor_to_PIL(img) for img in colorisation_results])"
   ]
  },
  {
   "cell_type": "code",
   "execution_count": null,
   "metadata": {},
   "outputs": [],
   "source": [
    "# Visualising all together\n",
    "\n",
    "fig, axs = plt.subplots(5,6)\n",
    "fig.set_size_inches(14,12)\n",
    "\n",
    "for column in axs:\n",
    "    for ax in column:\n",
    "        ax.axis('off')\n",
    "\n",
    "upscale = SuperResolutionProjectionPipeline.upscale\n",
    "\n",
    "data = [\n",
    "    (random_mask_image, lambda x: x * random_mask, random_mask_results),\n",
    "    (box_mask_image, lambda x: x * box_mask, box_mask_results),\n",
    "    (box_mask_image_2, lambda x: x * box_mask_2, box_mask_results_2),\n",
    "    (super_resolution_image, lambda x: upscale(pool(x), KERNEL_SIZE), super_resolution_results),\n",
    "    (colorisation_image, lambda x: greyscale(x) , colorisation_results)\n",
    "]\n",
    "\n",
    "axs[0][0].set_title(\"Ground Truth\")\n",
    "axs[0][1].set_title(\"Measurement Y\")\n",
    "axs[0][2].set_title(\"Constraint\")\n",
    "axs[0][3].set_title(\"PrYt\")\n",
    "axs[0][4].set_title(\"Pseudoinverse\")\n",
    "axs[0][5].set_title(\"MCG\")\n",
    "\n",
    "for i, d in enumerate(data):\n",
    "    f = d[1]\n",
    "    plt_img(axs[i][0], d[0])\n",
    "    plt_img(axs[i][1], d[1](d[0]))\n",
    "    axs[i][1].text(0,290,\"lpips / ssim / y_mse\")\n",
    "\n",
    "    for j, img in enumerate(d[2]):\n",
    "        plt_img(axs[i][j+2], img)\n",
    "\n",
    "        lpips_ = lpips_eval(img.unsqueeze(0), d[0].unsqueeze(0))\n",
    "        ssim_ = ssim_eval(img.unsqueeze(0), d[0].unsqueeze(0))\n",
    "        mse = ((d[1](d[0]) - d[1](img))**2).mean()\n",
    "\n",
    "        axs[i][j+2].text(0,290, f\"{lpips_:.3g}/{ssim_:.3g}/{mse:.3g}\")\n",
    "\n",
    "plt.subplots_adjust(left=0, right=1, top=1, bottom=0)\n",
    "plt.savefig(os.path.join(FIGURES_DIRECTORY, \"visualise-church.png\"),bbox_inches='tight', transparent=\"True\", pad_inches=0)"
   ]
  },
  {
   "cell_type": "markdown",
   "metadata": {},
   "source": [
    "# Tweedie"
   ]
  },
  {
   "cell_type": "code",
   "execution_count": null,
   "metadata": {},
   "outputs": [],
   "source": [
    "# Tweedie\n",
    "\n",
    "fig, axs = plt.subplots(1,3)\n",
    "for ax in axs:\n",
    "    ax.axis('off')\n",
    "\n",
    "axs[0].set_title(\"Original\")\n",
    "axs[0].text(0,300,\"lpips\")\n",
    "axs[0].text(0,340,\"ssim\")\n",
    "plt_img(axs[0], eval_img)\n",
    "\n",
    "axs[1].set_title(f\"Noise Clipped (σ {round(sigma.item(), 3)})\")\n",
    "axs[1].text(0,300,lpips_eval(noised_eval_image.unsqueeze(0).clamp(0,1), eval_img.unsqueeze(0)))\n",
    "axs[1].text(0,340,ssim_eval(noised_eval_image.unsqueeze(0).clamp(0,1), eval_img.unsqueeze(0)))\n",
    "plt_img(axs[1], noised_eval_image)\n",
    "\n",
    "axs[2].set_title(\"Tweedie\")\n",
    "tw = tweedie(noised_eval_image, sigma)\n",
    "axs[2].text(0,300,lpips_eval(tw, eval_img.unsqueeze(0)))\n",
    "axs[2].text(0,340,ssim_eval(tw, eval_img.unsqueeze(0)))\n",
    "plt_img(axs[2], tw.squeeze())\n",
    "\n",
    "\n",
    "plt.subplots_adjust(left=0, right=1, top=1, bottom=0)\n",
    "plt.savefig(os.path.join(FIGURES_DIRECTORY, \"tweedie.png\"),bbox_inches='tight', transparent=\"True\", pad_inches=0)\n"
   ]
  }
 ],
 "metadata": {
  "kernelspec": {
   "display_name": "venv311",
   "language": "python",
   "name": "python3"
  },
  "language_info": {
   "codemirror_mode": {
    "name": "ipython",
    "version": 3
   },
   "file_extension": ".py",
   "mimetype": "text/x-python",
   "name": "python",
   "nbconvert_exporter": "python",
   "pygments_lexer": "ipython3",
   "version": "3.11.5"
  }
 },
 "nbformat": 4,
 "nbformat_minor": 2
}
