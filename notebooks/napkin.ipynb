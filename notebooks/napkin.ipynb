{
  "cells": [
    {
      "cell_type": "code",
      "execution_count": null,
      "metadata": {
        "id": "9rAepy3YM9bW"
      },
      "outputs": [],
      "source": [
        "# Imports\n",
        "import torch\n",
        "from torch.utils.data import DataLoader, Dataset\n",
        "import torch.nn as nn\n",
        "from diffusers import ScoreSdeVePipeline, ScoreSdeVeScheduler, UNet2DModel\n",
        "from diffusers.utils.torch_utils import randn_tensor\n",
        "from diffusers.pipelines.pipeline_utils import ImagePipelineOutput\n",
        "from datasets import load_dataset, DatasetDict\n",
        "from torchvision.models import mobilenet_v3_small\n",
        "from torchvision.transforms import Resize, PILToTensor\n",
        "from tqdm import tqdm\n",
        "import torch\n",
        "from typing import List, Optional, Tuple, Union\n",
        "import math\n",
        "import requests\n",
        "from PIL import Image\n",
        "from io import BytesIO\n",
        "import matplotlib.pyplot as plt\n",
        "import numpy as np\n",
        "from torchvision.transforms import functional as F"
      ]
    },
    {
      "cell_type": "code",
      "execution_count": null,
      "metadata": {
        "colab": {
          "base_uri": "https://localhost:8080/"
        },
        "id": "DR8o8l70Lrbf",
        "outputId": "06a1606b-56fd-4b83-9528-8d8d4146232a"
      },
      "outputs": [],
      "source": [
        "torch.autograd.set_detect_anomaly(False)"
      ]
    },
    {
      "cell_type": "markdown",
      "metadata": {
        "id": "o0GB0SdlWZcc"
      },
      "source": [
        "### Data\n",
        "- [ ] Even out male and female samples\n",
        "- [ ] Try a simpler task -- \"color\" of images"
      ]
    },
    {
      "cell_type": "code",
      "execution_count": null,
      "metadata": {
        "id": "1oDjv6_3M9bY"
      },
      "outputs": [],
      "source": [
        "# Hyperparameters\n",
        "DEVICE = 'cuda' if torch.cuda.is_available() else 'cpu'\n",
        "PRETRAINED = \"google/ncsnpp-celebahq-256\"\n",
        "DATASET_SOURCE = \"Ryan-sjtu/celebahq-caption\"\n",
        "\n",
        "N_INFERENCE_STEPS = 1000\n",
        "BATCH_SIZE = 16\n",
        "TEST_BATCH_SIZE = 2\n",
        "N_EPOCHS = 100\n",
        "NOISE_BATCH = 32\n",
        "\n",
        "N = 200 # num of data of each gender\n",
        "RFF_DIM = 1024 # Random Fourier Features Dimensions"
      ]
    },
    {
      "cell_type": "code",
      "execution_count": null,
      "metadata": {
        "colab": {
          "base_uri": "https://localhost:8080/",
          "height": 66,
          "referenced_widgets": [
            "493bd105aeff4436aaa16ca44c34830c",
            "8d0fe977c8df464f97fb36a884be4c39",
            "805c22ec9fcd42d297d8a1dca6ae1f00",
            "424ccf4f7fc64df9af0a61380a414091",
            "f95ec32a7ef5490ea614a83514e734d9",
            "38fbc94dd57945e78ae20c5725d4b284",
            "afb08b03d52845ecb50be17d0476264b",
            "793bee5ebd2e45c2ba1c6d04d7767841",
            "e3cf9d0657554b209b65dd6d6668b08a",
            "d9fac8e1391046bca84e08ae012376dc",
            "e85fd41be9034f99a24a79c4913a0de1"
          ]
        },
        "id": "uUiorIwPM9bY",
        "outputId": "296f3b36-d0f7-4168-a94b-d6baf34a0640"
      },
      "outputs": [],
      "source": [
        "# Load\n",
        "unconditional_pipeline = ScoreSdeVePipeline.from_pretrained(PRETRAINED).to(device=DEVICE)\n",
        "unconditional_scheduler: ScoreSdeVeScheduler = unconditional_pipeline.scheduler\n",
        "unet = UNet2DModel.from_pretrained(PRETRAINED)\n",
        "dataset: DatasetDict = load_dataset(DATASET_SOURCE, streaming=True)\n",
        "\n",
        "# Demonstrate unconditional generation\n",
        "    # Also helps to set inference steps\n",
        "# example_image = unconditional_pipeline(num_inference_steps=N_INFERENCE_STEPS).images[0]\n",
        "# example_image"
      ]
    },
    {
      "cell_type": "markdown",
      "metadata": {
        "id": "IFZ1LJvSlkyB"
      },
      "source": [
        "#### Utils"
      ]
    },
    {
      "cell_type": "code",
      "execution_count": null,
      "metadata": {
        "id": "J8-lCDKZYo_g"
      },
      "outputs": [],
      "source": [
        "from datasets import concatenate_datasets\n",
        "\n",
        "def balance(dataset: Dataset):\n",
        "    # Filter to separate the classes\n",
        "    class_0 = dataset.filter(lambda x: x['label'][0] == 0.0)\n",
        "    class_1 = dataset.filter(lambda x: x['label'][0] == 1.0)\n",
        "\n",
        "    # Find the smaller class size\n",
        "    min_class_size = min(len(class_0), len(class_1))\n",
        "    print(f\"min class size: {min_class_size}\")\n",
        "\n",
        "    # Shuffle and sample from the larger class\n",
        "    class_0 = class_0.shuffle().select(range(min_class_size)) if len(class_0) > min_class_size else class_0\n",
        "    class_1 = class_1.shuffle().select(range(min_class_size)) if len(class_1) > min_class_size else class_1\n",
        "\n",
        "    # Concatenate the balanced classes\n",
        "    balanced_dataset = concatenate_datasets([class_0, class_1]).shuffle()\n",
        "\n",
        "    return balanced_dataset"
      ]
    },
    {
      "cell_type": "code",
      "execution_count": null,
      "metadata": {
        "id": "jUq-dvnIM9bZ"
      },
      "outputs": [],
      "source": [
        "# Utils\n",
        "def process(img):\n",
        "    return img.to(torch.float32).transpose(-1,-3).transpose(-1,-2) / 256\n",
        "resize = Resize(unconditional_pipeline.unet.config.sample_size)\n",
        "\n"
      ]
    },
    {
      "cell_type": "code",
      "execution_count": null,
      "metadata": {
        "id": "AtMWVpx1lDbN"
      },
      "outputs": [],
      "source": [
        "def show_img(img: Image, size = 3, title=None) -> None:\n",
        "    plt.figure(figsize=(size, size))\n",
        "    plt.imshow(img)\n",
        "    plt.axis('off')\n",
        "    if title != None:\n",
        "        plt.title(title)\n",
        "    plt.show()"
      ]
    },
    {
      "cell_type": "code",
      "execution_count": null,
      "metadata": {
        "id": "5NQBXAAAWspI"
      },
      "outputs": [],
      "source": [
        "def tensor_to_image(ts: torch.Tensor) -> Image:\n",
        "    img_np = ts.squeeze().permute(1, 2, 0).cpu().numpy()\n",
        "    img_np = (img_np * 255).astype(np.uint8)  # Rescale back to 0-255 range\n",
        "    return Image.fromarray(img_np)\n",
        "\n",
        "def image_to_tensor(img: Image) -> torch.Tensor:\n",
        "    ts = F.to_tensor(img)\n",
        "    return ts.unsqueeze(0)"
      ]
    },
    {
      "cell_type": "code",
      "execution_count": null,
      "metadata": {
        "id": "bHDc_6JYk5m5"
      },
      "outputs": [],
      "source": [
        "def masked_image(data, mask):\n",
        "    return tensor_to_image(data * mask)"
      ]
    },
    {
      "cell_type": "code",
      "execution_count": null,
      "metadata": {
        "id": "rxxiTPgle32a"
      },
      "outputs": [],
      "source": [
        "import matplotlib.pyplot as plt\n",
        "import numpy as np\n",
        "import torch\n",
        "\n",
        "def plot_tensor_grid(tensor, size=2, columns=5):\n",
        "    \"\"\"\n",
        "    Plots a grid of images from a 4D tensor.\n",
        "\n",
        "    Parameters:\n",
        "    - tensor (torch.Tensor): A 4D tensor of shape [n, 3, 256, 256].\n",
        "    - figsize (tuple): A tuple indicating the size of the figure (width, height).\n",
        "    - columns (int): The number of columns in the image grid.\n",
        "\n",
        "    The number of rows is determined automatically.\n",
        "    \"\"\"\n",
        "    # Ensure tensor is on CPU and detach it from the computation graph if necessary\n",
        "    tensor = tensor.detach().cpu()\n",
        "\n",
        "    # Calculate the number of rows needed\n",
        "    n_images = tensor.shape[0]\n",
        "    rows = np.ceil(n_images / columns).astype(int)\n",
        "\n",
        "    # Create a matplotlib figure with the specified size\n",
        "    fig, axes = plt.subplots(rows, columns, figsize=(size*columns, size*rows), squeeze=False)\n",
        "\n",
        "    # Flatten the axes array for easy iteration\n",
        "    axes_flat = axes.flatten()\n",
        "\n",
        "    # Plot each image\n",
        "    for i in range(n_images):\n",
        "        # Convert the tensor to a numpy array and transpose the axes from (C, H, W) to (H, W, C)\n",
        "        image = tensor[i].numpy().transpose(1, 2, 0)\n",
        "        axes_flat[i].imshow(image)\n",
        "        axes_flat[i].axis('off')\n",
        "\n",
        "    # Turn off axes for any unused subplot\n",
        "    for i in range(n_images, rows * columns):\n",
        "        axes_flat[i].axis('off')\n",
        "\n",
        "    plt.tight_layout()\n",
        "    plt.show()\n",
        "\n",
        "\n",
        "def plot_image_grid(images, size=2, columns=5):\n",
        "    # Calculate the number of rows needed\n",
        "    n_images = len(images)\n",
        "    rows = np.ceil(n_images / columns).astype(int)\n",
        "\n",
        "    # Create a matplotlib figure with the specified size\n",
        "    fig, axes = plt.subplots(rows, columns, figsize=(size*columns, size*rows), squeeze=False)\n",
        "\n",
        "    # Flatten the axes array for easy iteration\n",
        "    axes_flat = axes.flatten()\n",
        "\n",
        "    # Plot each image\n",
        "    for i in range(n_images):\n",
        "        # Convert the tensor to a numpy array and transpose the axes from (C, H, W) to (H, W, C)\n",
        "        axes_flat[i].imshow(images[i])\n",
        "        axes_flat[i].axis('off')\n",
        "\n",
        "    # Turn off axes for any unused subplot\n",
        "    for i in range(n_images, rows * columns):\n",
        "        axes_flat[i].axis('off')\n",
        "\n",
        "    plt.tight_layout()\n",
        "    plt.show()"
      ]
    },
    {
      "cell_type": "markdown",
      "metadata": {
        "id": "7lOhkKGGlhqr"
      },
      "source": [
        "#### Preprocess"
      ]
    },
    {
      "cell_type": "code",
      "execution_count": null,
      "metadata": {
        "id": "KT0fvv7WjkFX"
      },
      "outputs": [],
      "source": [
        "class CustomDataset(Dataset):\n",
        "    def __init__(self, images, labels):\n",
        "        self.images = images\n",
        "        self.labels = labels\n",
        "\n",
        "    def __len__(self):\n",
        "        return len(self.images)\n",
        "\n",
        "    def __getitem__(self, idx):\n",
        "        # print(f\"Index: {idx}, Type: {type(idx)}\")\n",
        "        data, label = self.images[idx], self.labels[idx]\n",
        "        # print(f\"Data type: {type(data)}, Label type: {type(label)}\")\n",
        "        return data, label\n",
        "\n",
        "    def split(self, test=0.2):\n",
        "        test_size = int(len(self) * test)\n",
        "        return CustomDataset(self.images[test_size:], self.labels[test_size:]), \\\n",
        "            CustomDataset(self.images[:test_size], self.labels[:test_size])"
      ]
    },
    {
      "cell_type": "code",
      "execution_count": null,
      "metadata": {
        "id": "kTXIELq-hnUf"
      },
      "outputs": [],
      "source": [
        "# Dataset\n",
        "def get_custom_dataset(dataset, N, start_index=0):\n",
        "    n_woman, n_man = 0, 0\n",
        "    sub_dict = {'image':[], 'label':[]}\n",
        "    end_index = 0\n",
        "    for i, sample in enumerate(dataset):\n",
        "        if i < start_index:\n",
        "            continue\n",
        "        is_woman = 'woman' in sample['text']\n",
        "        if n_woman >= N and n_man >= N:\n",
        "            end_index = i\n",
        "            break\n",
        "        if (n_man >= N and not is_woman) or (n_woman >= N and is_woman):\n",
        "            continue\n",
        "        sub_dict['image'].append(image_to_tensor(resize(sample['image'])).squeeze())\n",
        "        sub_dict['label'].append(1 if is_woman else 0)\n",
        "        if is_woman:\n",
        "            n_woman+=1\n",
        "        else:\n",
        "            n_man+=1\n",
        "    assert (sum(sub_dict['label']) == (len(sub_dict['label'])//2))\n",
        "    return CustomDataset(sub_dict['image'], sub_dict['label']), end_index\n",
        "\n",
        "train_ds, end_index = get_custom_dataset(dataset['train'], N)\n",
        "test_ds, _ = get_custom_dataset(dataset['train'], N//10, end_index)"
      ]
    },
    {
      "cell_type": "code",
      "execution_count": null,
      "metadata": {
        "colab": {
          "base_uri": "https://localhost:8080/"
        },
        "id": "5A63KN677-ol",
        "outputId": "e7aac115-43c0-4000-f7ba-b8ab89b98919"
      },
      "outputs": [],
      "source": [
        "print(len(train_ds))\n",
        "print(sum([x[1] for x in train_ds]))\n",
        "print(len(test_ds))\n",
        "print(sum([x[1] for x in test_ds]))"
      ]
    },
    {
      "cell_type": "code",
      "execution_count": null,
      "metadata": {
        "id": "Gjzi1Eb1sKDD"
      },
      "outputs": [],
      "source": [
        "loader = DataLoader(train_ds, batch_size=BATCH_SIZE)\n",
        "testloader = DataLoader(test_ds, batch_size=TEST_BATCH_SIZE)"
      ]
    },
    {
      "cell_type": "code",
      "execution_count": null,
      "metadata": {
        "colab": {
          "base_uri": "https://localhost:8080/"
        },
        "id": "_F4unL8Dr5LA",
        "outputId": "999acfed-8428-440c-a1ca-92ac3ceff023"
      },
      "outputs": [],
      "source": [
        "for i in range(len(train_ds)):\n",
        "    print(train_ds[i][0].shape)\n",
        "    break"
      ]
    },
    {
      "cell_type": "code",
      "execution_count": null,
      "metadata": {
        "colab": {
          "base_uri": "https://localhost:8080/"
        },
        "id": "A-F5n95grYz2",
        "outputId": "a4da0066-ef70-411a-be92-ca5ae977cdf0"
      },
      "outputs": [],
      "source": [
        "for image, label in loader:\n",
        "    print(label)\n",
        "    break"
      ]
    },
    {
      "cell_type": "code",
      "execution_count": null,
      "metadata": {
        "colab": {
          "base_uri": "https://localhost:8080/",
          "height": 675
        },
        "id": "EV5ngiJapl_l",
        "outputId": "bbfc130e-555d-44a8-a70e-da83ae35b299"
      },
      "outputs": [],
      "source": [
        "# preview the dataset\n",
        "figure = plt.figure(figsize=(8, 8))\n",
        "cols, rows = 3, 3\n",
        "for i in range(1, cols * rows + 1):\n",
        "    sample_idx = torch.randint(len(train_ds), size=(1,)).item()\n",
        "    img, label = train_ds[sample_idx]\n",
        "    figure.add_subplot(rows, cols, i)\n",
        "    plt.title(label)\n",
        "    plt.axis(\"off\")\n",
        "    plt.imshow(tensor_to_image(img))\n",
        "plt.show()"
      ]
    },
    {
      "cell_type": "markdown",
      "metadata": {
        "id": "QNUy2iIZWz9j"
      },
      "source": [
        "### Model\n",
        "- [ ] Try 32 by 32"
      ]
    },
    {
      "cell_type": "markdown",
      "metadata": {
        "id": "385C_sWmqjL4"
      },
      "source": [
        "#### Other Models"
      ]
    },
    {
      "cell_type": "code",
      "execution_count": null,
      "metadata": {
        "id": "XqGxglCWM9bZ"
      },
      "outputs": [],
      "source": [
        "# Create classifer model\n",
        "\n",
        "# model = mobilenet_v3_small()\n",
        "# model = nn.Sequential(\n",
        "#     model.features,\n",
        "#     model.avgpool,\n",
        "#     nn.Flatten(),\n",
        "#     nn.Dropout(0.2, inplace=True),\n",
        "#     nn.Linear(in_features=576, out_features=1),\n",
        "#     nn.Sigmoid()\n",
        "# )\n",
        "\n",
        "# Simple CNN\n",
        "# model = nn.Sequential(\n",
        "#     nn.Conv2d(in_channels=3, out_channels=16, kernel_size=5),\n",
        "#     nn.LeakyReLU(),\n",
        "#     nn.MaxPool2d(kernel_size=5),\n",
        "#     nn.Conv2d(in_channels=16, out_channels=32, kernel_size=5),\n",
        "#     nn.LeakyReLU(),\n",
        "#     nn.MaxPool2d(kernel_size=3),\n",
        "#     nn.Conv2d(in_channels=32, out_channels=64, kernel_size=5),\n",
        "#     nn.LeakyReLU(),\n",
        "#     nn.Conv2d(in_channels=64, out_channels=128, kernel_size=3),\n",
        "#     nn.LazyLinear(out_features=128),\n",
        "#     nn.LeakyReLU(),\n",
        "#     nn.Linear(in_features=128, out_features=1),\n",
        "#     nn.Sigmoid()\n",
        "# )\n",
        "\n",
        "# model = nn.Sequential(\n",
        "#             nn.Conv2d(3, 16, kernel_size=3, padding=1),\n",
        "#             nn.ReLU(),\n",
        "#             nn.MaxPool2d(2),\n",
        "#             nn.Conv2d(16, 32, kernel_size=3, padding=1),\n",
        "#             nn.ReLU(),\n",
        "#             nn.MaxPool2d(2),\n",
        "#             nn.Conv2d(32, 64, kernel_size=3, padding=1),\n",
        "#             nn.ReLU(),\n",
        "#             nn.MaxPool2d(2),\n",
        "#             nn.Flatten(),\n",
        "#             nn.Linear(64 * 32 * 32, 512),\n",
        "#             nn.ReLU(),\n",
        "#             nn.Linear(512, 1),\n",
        "#             nn.Sigmoid()\n",
        "#         )\n",
        "\n"
      ]
    },
    {
      "cell_type": "markdown",
      "metadata": {
        "id": "OwBmC_MLqla-"
      },
      "source": [
        "#### CNN with RFF"
      ]
    },
    {
      "cell_type": "code",
      "execution_count": null,
      "metadata": {
        "id": "1_8D9j1vqiRq"
      },
      "outputs": [],
      "source": [
        "def generate_rff(log_sigma, dimension=100):  # Set your desired dimension for RFF\n",
        "    random_matrix = torch.randn((1, dimension), device=log_sigma.device)\n",
        "    transformed = torch.matmul(log_sigma.unsqueeze(-1), random_matrix)\n",
        "    return torch.cos(transformed)\n",
        "\n",
        "class CustomCNNWithRFF(nn.Module):\n",
        "    def __init__(self, rff_dim=100):\n",
        "        super(CustomCNNWithRFF, self).__init__()\n",
        "        self.rff_dim = rff_dim\n",
        "        self.cnn_layers = nn.Sequential(\n",
        "            nn.Conv2d(3, 16, kernel_size=3, padding=1),\n",
        "            nn.LeakyReLU(),\n",
        "            nn.MaxPool2d(2),\n",
        "            nn.Conv2d(16, 32, kernel_size=3, padding=1),\n",
        "            nn.LeakyReLU(),\n",
        "            nn.MaxPool2d(2),\n",
        "            nn.Conv2d(32, 64, kernel_size=3, padding=1),\n",
        "            nn.LeakyReLU(),\n",
        "            nn.MaxPool2d(2),\n",
        "            nn.Flatten()\n",
        "        )\n",
        "        self.fc_layers = nn.Sequential(\n",
        "            nn.Linear(64 * 32 * 32 + self.rff_dim, 512),  # Adjusted for RFF\n",
        "            nn.LeakyReLU(),\n",
        "            nn.Linear(512, 1),\n",
        "            nn.Sigmoid()\n",
        "        )\n",
        "\n",
        "    def forward(self, x, sigma):\n",
        "        log_sigma = torch.log(sigma + 1e-8)  # To ensure numerical stability\n",
        "        rff = generate_rff(log_sigma, self.rff_dim)\n",
        "\n",
        "        x = self.cnn_layers(x)\n",
        "        x = x.view(x.size(0), -1)  # Flatten the output\n",
        "        x = torch.cat([x, rff], dim=1)  # Concatenate RFF at the last linear layer\n",
        "        x = self.fc_layers(x)\n",
        "        return x\n"
      ]
    },
    {
      "cell_type": "markdown",
      "metadata": {
        "id": "CIMbNqzw4-9q"
      },
      "source": [
        "#### Mobile Net with RFF"
      ]
    },
    {
      "cell_type": "code",
      "execution_count": null,
      "metadata": {
        "id": "5bJ8eI4c3-2W"
      },
      "outputs": [],
      "source": [
        "class CustomMobileNetWithRFF(nn.Module):\n",
        "    def __init__(self, rff_dim=100):\n",
        "        super(CustomMobileNetWithRFF, self).__init__()\n",
        "        self.rff_dim = rff_dim\n",
        "        self.mobile_net = mobilenet_v3_small()\n",
        "        self.mobile_net_layers = nn.Sequential(\n",
        "            self.mobile_net.features,\n",
        "            self.mobile_net.avgpool,\n",
        "            nn.Flatten(),\n",
        "            nn.Dropout(0.2, inplace=True)\n",
        "        )\n",
        "        self.fc_layers = nn.Sequential(\n",
        "            nn.Linear(576 + self.rff_dim, 512),  # Adjusted for RFF\n",
        "            nn.LeakyReLU(),\n",
        "            nn.Linear(512, 1),\n",
        "            nn.Sigmoid()\n",
        "        )\n",
        "\n",
        "    def forward(self, x, sigma):\n",
        "        log_sigma = torch.log(sigma + 1e-8)  # To ensure numerical stability\n",
        "        rff = generate_rff(log_sigma, self.rff_dim)\n",
        "\n",
        "        x = self.mobile_net_layers(x)\n",
        "        x = x.view(x.size(0), -1)  # Flatten the output\n",
        "        x = torch.cat([x, rff], dim=1)  # Concatenate RFF at the last linear layer\n",
        "        x = self.fc_layers(x)\n",
        "        return x\n"
      ]
    },
    {
      "cell_type": "code",
      "execution_count": null,
      "metadata": {
        "id": "EJbyncxa43jI"
      },
      "outputs": [],
      "source": [
        "model = CustomCNNWithRFF(rff_dim=RFF_DIM).to(DEVICE)\n",
        "# model = CustomMobileNetWithRFF(rff_dim=RFF_DIM).to(DEVICE)"
      ]
    },
    {
      "cell_type": "code",
      "execution_count": null,
      "metadata": {
        "id": "BCgRVK76sI-u"
      },
      "outputs": [],
      "source": [
        "def get_timesteps_and_sigmas(size, high):\n",
        "    timesteps = torch.randint(\n",
        "                    low=0,\n",
        "                    high=high,\n",
        "                    # high=1,\n",
        "                    size= (size, )\n",
        "                ).to(device=DEVICE)\n",
        "    sigmas = unconditional_scheduler.discrete_sigmas.to(DEVICE)[timesteps]\n",
        "    return timesteps, sigmas"
      ]
    },
    {
      "cell_type": "code",
      "execution_count": null,
      "metadata": {
        "id": "l91Ml19sobk-"
      },
      "outputs": [],
      "source": [
        "def compute_accuracy(dataloader, model, loss_fn, sigma=0):\n",
        "    size = len(dataloader.dataset)\n",
        "    num_batches = len(dataloader)\n",
        "    model.eval()\n",
        "    test_loss, correct = 0, 0\n",
        "    with torch.no_grad():\n",
        "        for X, y in dataloader:\n",
        "            X, y = X.float().to(DEVICE), y.float().to(DEVICE)\n",
        "            # timesteps, sigmas = get_timesteps_and_sigmas()\n",
        "            sigmas = torch.tensor(sigma).float().repeat(X.shape[0]).to(DEVICE)\n",
        "            # add noise of sigma to X\n",
        "            X = X + torch.randn_like(X) * sigma\n",
        "            pred = model(X, sigmas).squeeze(1)\n",
        "            # plot_tensor_grid(X[:2]); break\n",
        "            # print(type(pred[0]))\n",
        "            # print(type(y[0]))\n",
        "            test_loss += loss_fn(pred, y).item()\n",
        "            correct += ((pred > 0.5) == y).type(torch.float).sum().item()\n",
        "    test_loss /= num_batches\n",
        "    correct /= size\n",
        "    return correct, test_loss"
      ]
    },
    {
      "cell_type": "code",
      "execution_count": null,
      "metadata": {
        "colab": {
          "base_uri": "https://localhost:8080/"
        },
        "id": "LDSkyx63oG81",
        "outputId": "7139b344-4300-4cbd-c2e6-258cf9558df5"
      },
      "outputs": [],
      "source": [
        "loss_fn = nn.BCELoss()\n",
        "compute_accuracy(loader, model, loss_fn, 10)"
      ]
    },
    {
      "cell_type": "markdown",
      "metadata": {
        "id": "BKKmhTFhM9bZ"
      },
      "source": [
        "# Method 1: Train Classifier"
      ]
    },
    {
      "cell_type": "code",
      "execution_count": null,
      "metadata": {
        "colab": {
          "base_uri": "https://localhost:8080/"
        },
        "id": "sY_3PHKKM9ba",
        "outputId": "70daeda6-2cd1-4ac8-e70d-189abf727817"
      },
      "outputs": [],
      "source": [
        "# Train Classifier\n",
        "# optim = torch.optim.Adam(model.parameters(), lr=0.001)\n",
        "optim = torch.optim.SGD(model.parameters(), lr=1e-3, momentum=0.9)\n",
        "\n",
        "loss_fn = nn.BCELoss()\n",
        "sig = nn.Sigmoid().to(device=DEVICE)\n",
        "eval_sigmas = np.linspace(0,10,10) # images with sigma too high is not classifiable anyways\n",
        "\n",
        "# shape [epoch, num_sigmas, 2]\n",
        "progress = []\n",
        "\n",
        "with tqdm(total=N_EPOCHS) as pbar:\n",
        "    for epoch in range(N_EPOCHS):\n",
        "\n",
        "        epoch_progress = []\n",
        "        for i, sigma in enumerate(eval_sigmas):\n",
        "            # if (i > 0): # making testing faster\n",
        "                # break;\n",
        "            accuracy, loss = compute_accuracy(loader, model, loss_fn, sigma)\n",
        "            epoch_progress.append((accuracy,loss))\n",
        "        # pbar.set_description(f\"accuracy {epoch_progress[0][0]} loss {epoch_progress[0][1]}\")\n",
        "        pbar.set_description(f\"accuracy {epoch_progress[0][0]}, {epoch_progress[-1][0]} loss {epoch_progress[0][1]}, {epoch_progress[-1][1]}\")\n",
        "        pbar.refresh()\n",
        "        progress.append(epoch_progress)\n",
        "\n",
        "\n",
        "        # noise_size = int(np.interp(epoch,[0,N_EPOCHS-1],[1,NOISE_BATCH]))\n",
        "        # noise_high = int(np.interp(epoch,[0,N_EPOCHS-1],[1,len(unconditional_scheduler.discrete_sigmas)]))\n",
        "        noise_size = NOISE_BATCH\n",
        "        noise_high = 20\n",
        "        # print(f\"epoch {epoch}: noise size {noise_size}, noise max {noise_high}\")\n",
        "        for i, data in enumerate(loader):\n",
        "            inputs, labels = data # learning image s with sigma above 1 is not classificaable anyways\n",
        "            inputs, labels = inputs.float().to(DEVICE), labels.float().to(DEVICE)\n",
        "            # print(inputs.shape)\n",
        "            # print(labels.shape)\n",
        "\n",
        "            # Preprocess image\n",
        "            # inputs = process(inputs)\n",
        "            # inputs = resize(inputs).unsqueeze(1)\n",
        "            inputs = inputs.unsqueeze(1)\n",
        "            timesteps, sigmas = get_timesteps_and_sigmas(noise_size, noise_high)\n",
        "            sigmas = sigmas.repeat(inputs.shape[0])\n",
        "            # print(sigmas.shape)\n",
        "            inputs = unconditional_scheduler.add_noise(\n",
        "                original_samples=inputs,\n",
        "                noise=None,\n",
        "                timesteps=timesteps\n",
        "            ).flatten(0,1)\n",
        "            # print(inputs.shape)\n",
        "            # plot_tensor_grid(inputs[:10,:,:,:])\n",
        "            labels = labels.unsqueeze(-1)\n",
        "            labels = labels.expand(labels.shape[0],noise_size).flatten()\n",
        "            # print(labels.shape)\n",
        "            # Training\n",
        "            optim.zero_grad()\n",
        "            # print(f\"inputs shape: {inputs.shape}\")\n",
        "            predicted = model(inputs, sigmas).squeeze(1)\n",
        "            # print(predicted)\n",
        "            loss = loss_fn(predicted, labels)\n",
        "            loss.backward()\n",
        "            optim.step()\n",
        "\n",
        "        # Logging\n",
        "        pbar.update(1)"
      ]
    },
    {
      "cell_type": "markdown",
      "metadata": {
        "id": "Ey_aKW0c33E5"
      },
      "source": [
        "#### Quick Eval"
      ]
    },
    {
      "cell_type": "code",
      "execution_count": null,
      "metadata": {
        "colab": {
          "base_uri": "https://localhost:8080/",
          "height": 807
        },
        "id": "1OivcpRaj8VH",
        "outputId": "ecb2b3dd-3aa4-456c-bf1e-14642aafd8b3"
      },
      "outputs": [],
      "source": [
        "fig, axes = plt.subplots(1,2,figsize=(10,8))\n",
        "\n",
        "cmap = plt.cm.viridis\n",
        "colors = cmap(np.linspace(0, 1, len(progress[0])))\n",
        "\n",
        "# Plot each list on the axis\n",
        "for i in range(len(progress[0])):\n",
        "    axes[0].plot([x[i][0] for x in progress], marker='', linestyle='-', color=colors[i], label=f\"sigma-{eval_sigmas[i]:.2f}\")\n",
        "\n",
        "# Set legends, title, and labels\n",
        "axes[0].set_title(\"Training Accuracies\")\n",
        "axes[0].legend(loc=\"upper left\")\n",
        "axes[0].set_xlabel(\"Epochs\")\n",
        "axes[0].set_ylabel(\"Accuracy\")\n",
        "axes[0].set_ylim(0.0,1.0)\n",
        "# ax.set_xticks(range(100))\n",
        "\n",
        "for i in range(len(progress[0])):\n",
        "    axes[1].plot([x[i][1] for x in progress], marker='', linestyle='-', color=colors[i], label=f\"sigma-{eval_sigmas[i]:.2f}\")\n",
        "axes[1].set_title(\"Training Losses\")\n",
        "axes[1].set_xlabel(\"Epochs\")\n",
        "axes[1].set_ylabel(\"Loss\")\n",
        "\n",
        "# Display the plot\n",
        "plt.tight_layout()\n",
        "plt.show()"
      ]
    },
    {
      "cell_type": "code",
      "execution_count": null,
      "metadata": {
        "colab": {
          "base_uri": "https://localhost:8080/"
        },
        "id": "2C4fgqRq35KK",
        "outputId": "88e55793-efc9-46ab-ca2c-963890d104f5"
      },
      "outputs": [],
      "source": [
        "n = 1\n",
        "for sigma in eval_sigmas:\n",
        "    print(compute_accuracy(testloader, model, loss_fn, sigma))\n",
        "# with torch.no_grad():\n",
        "#     for i, data in enumerate(testloader):\n",
        "#         if i > n:\n",
        "#             break\n",
        "#         inputs, labels = data\n",
        "#         inputs, labels = inputs.float().to(DEVICE), labels.float().to(DEVICE)\n",
        "\n",
        "#         inputs = inputs.unsqueeze(1)\n",
        "#         sigmas = torch.tensor(sigma).float().repeat(inputs.shape[0]).to(DEVICE)\n",
        "#         print(sigmas)\n",
        "#         # print(sigmas.shape)\n",
        "#         inputs = unconditional_scheduler.add_noise(\n",
        "#             original_samples=inputs,\n",
        "#             noise=None,\n",
        "#             timesteps=timesteps\n",
        "#         ).flatten(0,1)\n",
        "#         # print(inputs.shape)\n",
        "#         labels = labels.unsqueeze(-1)\n",
        "#         labels = labels.expand(labels.shape[0],NOISE_BATCH).flatten()\n",
        "\n",
        "#         # sigmas = torch.ones(inputs.shape[0]).to(DEVICE)\n",
        "#         predicted = model(inputs, sigmas).squeeze(1)\n",
        "#         print(['woman' if x else 'man' for x in (predicted>0.5)])\n",
        "#         print(f\"GT: {['woman' if x==1 else 'man' for x in labels]}\")\n",
        "#             plot_tensor_grid(inputs)"
      ]
    },
    {
      "cell_type": "code",
      "execution_count": null,
      "metadata": {
        "colab": {
          "base_uri": "https://localhost:8080/",
          "height": 1000
        },
        "id": "z_Lz6R29HICD",
        "outputId": "0228220d-bee8-460c-8302-15d7fb4275c9"
      },
      "outputs": [],
      "source": [
        "sigma = 2000\n",
        "with torch.enable_grad():\n",
        "    for X, y in testloader:\n",
        "        X, y = X.float().to(DEVICE), y.float().to(DEVICE)\n",
        "        # timesteps, sigmas = get_timesteps_and_sigmas()\n",
        "        sigmas = torch.tensor(sigma).float().repeat(X.shape[0]).to(DEVICE)\n",
        "        # add noise of sigma to X\n",
        "        X = X + torch.randn_like(X) * sigma\n",
        "        X.requires_grad = True\n",
        "        plot_tensor_grid(X)\n",
        "        # print(sigma)\n",
        "        predicted = torch.log(model(X, sigmas))\n",
        "        predicted.sum().backward()\n",
        "        print(X.grad)\n",
        "        break\n"
      ]
    },
    {
      "cell_type": "markdown",
      "metadata": {
        "id": "jR-di8yEj5zC"
      },
      "source": [
        "### Conditional Generation"
      ]
    },
    {
      "cell_type": "code",
      "execution_count": null,
      "metadata": {
        "id": "ru7YIM0cM9ba"
      },
      "outputs": [],
      "source": [
        "# Checkpoints\n",
        "# classifier_name = 'toy_classifier.pt'\n",
        "\n",
        "# torch.save(model, classifier_name)\n",
        "# model = torch.load(classifier_name)"
      ]
    },
    {
      "cell_type": "code",
      "execution_count": null,
      "metadata": {
        "id": "Muqe6kRYM9ba"
      },
      "outputs": [],
      "source": [
        "class BinaryClassConditionalScoreSdeVePipeline(ScoreSdeVePipeline):\n",
        "    def add_conditional_gradient(self, sample, sigma, output, classifier, target, debug=False):\n",
        "        with torch.enable_grad():\n",
        "            sample.requires_grad = True\n",
        "            sigma = sigma.unsqueeze(-1).repeat(sample.shape[0]).to(DEVICE)\n",
        "            # print(sigma)\n",
        "            predicted = torch.log(classifier(sample, sigma)) if target \\\n",
        "                else torch.log(1- classifier(sample, sigma))\n",
        "            predicted.sum().backward()\n",
        "            res = torch.nan_to_num(sample.grad)\n",
        "            # if not target:\n",
        "                # res = -res\n",
        "            output += 32 * res\n",
        "        return output\n",
        "\n",
        "    @torch.no_grad()\n",
        "    def __call__(\n",
        "        self,\n",
        "        classifier,\n",
        "        target: bool = True,\n",
        "        batch_size: int = 1,\n",
        "        num_inference_steps: int = 2000,\n",
        "        generator: Optional[Union[torch.Generator, List[torch.Generator]]] = None,\n",
        "        output_type: Optional[str] = \"pil\",\n",
        "        return_dict: bool = True,\n",
        "        **kwargs,\n",
        "    ) -> Union[ImagePipelineOutput, Tuple]:\n",
        "        img_size = self.unet.config.sample_size\n",
        "        shape = (batch_size, 3, img_size, img_size)\n",
        "\n",
        "        model = self.unet\n",
        "\n",
        "        sample = randn_tensor(shape, generator=generator) * self.scheduler.init_noise_sigma\n",
        "        sample = sample.to(self.device)\n",
        "\n",
        "        self.scheduler.set_timesteps(num_inference_steps)\n",
        "        self.scheduler.set_sigmas(num_inference_steps)\n",
        "\n",
        "        for i, t in enumerate(self.progress_bar(self.scheduler.timesteps)):\n",
        "            sigma = self.scheduler.sigmas[i]\n",
        "            sigma_t = sigma * torch.ones(shape[0], device=self.device)\n",
        "\n",
        "            # correction step\n",
        "            for _ in range(self.scheduler.config.correct_steps):\n",
        "                model_output = self.unet(sample, sigma_t).sample\n",
        "                model_output = self.add_conditional_gradient(sample, sigma, model_output, classifier, target)\n",
        "                sample = self.scheduler.step_correct(model_output, sample, generator=generator).prev_sample\n",
        "\n",
        "            # prediction step\n",
        "            model_output = model(sample, sigma_t).sample\n",
        "            model_output = self.add_conditional_gradient(sample, sigma, model_output, classifier, target)\n",
        "            output = self.scheduler.step_pred(model_output, t, sample, generator=generator)\n",
        "\n",
        "            sample, sample_mean = output.prev_sample, output.prev_sample_mean\n",
        "\n",
        "        sample = sample_mean.clamp(0, 1)\n",
        "        sample = sample.cpu().permute(0, 2, 3, 1).numpy()\n",
        "        if output_type == \"pil\":\n",
        "            sample = self.numpy_to_pil(sample)\n",
        "\n",
        "        if not return_dict:\n",
        "            return (sample,)\n",
        "\n",
        "        return ImagePipelineOutput(images=sample)\n"
      ]
    },
    {
      "cell_type": "code",
      "execution_count": null,
      "metadata": {
        "colab": {
          "base_uri": "https://localhost:8080/",
          "height": 305,
          "referenced_widgets": [
            "2a8061cd95964015a5f68b085648fc60",
            "dfac614dec034440a307f25ad942d85b",
            "009cdd5a0f3140ddb4201ff9246db680",
            "4acb5982102e4f6c9f42cea4c3b463d6",
            "bc21a00d97714795a3c28f3609d93f4a",
            "e7ec747a0a704a7883aae9a9390fe84a",
            "20a0fd9b8079466b9157607218050759",
            "4845252d48314ada9b0094292f8a0a49",
            "20388d9ed1e04c39901884ed84871314",
            "de6e35ae0846442fbf9670f904560e21",
            "9bbaf70c40b443298b27a85591bbaf58"
          ]
        },
        "id": "OWicOH20M9ba",
        "outputId": "a09ffc7b-7b3d-47c0-cb5a-b0325ca63986"
      },
      "outputs": [],
      "source": [
        "# Example\n",
        "conditional_pipeline = BinaryClassConditionalScoreSdeVePipeline(unconditional_pipeline.unet, unconditional_pipeline.scheduler)\n",
        "images = conditional_pipeline(model, batch_size=1, target=False, num_inference_steps=800).images\n",
        "t = PILToTensor()\n",
        "images[0]"
      ]
    },
    {
      "cell_type": "code",
      "execution_count": null,
      "metadata": {
        "colab": {
          "base_uri": "https://localhost:8080/"
        },
        "id": "E6Iv2JKxz_59",
        "outputId": "27c4e9fd-093a-47f0-f18b-0f3f5328c152"
      },
      "outputs": [],
      "source": [
        "with torch.no_grad():\n",
        "    for image in images:\n",
        "        sample = (t(image) / 256).unsqueeze(0).to(device=DEVICE)\n",
        "        print(f\"Predicted: {model(sample, torch.zeros(1).to(DEVICE)).item()}\")"
      ]
    },
    {
      "cell_type": "code",
      "execution_count": null,
      "metadata": {
        "colab": {
          "base_uri": "https://localhost:8080/",
          "height": 207
        },
        "id": "EpeioGq0DhoW",
        "outputId": "f2491e88-9d05-4d4c-b2cf-25024b164d88"
      },
      "outputs": [],
      "source": [
        "plot_image_grid(images)"
      ]
    },
    {
      "cell_type": "code",
      "execution_count": null,
      "metadata": {
        "colab": {
          "base_uri": "https://localhost:8080/",
          "height": 406,
          "referenced_widgets": [
            "81873cdacb0e48f490d4dd16b63bdef9",
            "c842b22a21d24c1a83466480f13f088d",
            "7b916691958b44e0b301fc6903907e81",
            "69d50f60cc144f61ab6fdac872bb5377",
            "9f87bd12dfb54d05b3f6af6c1b7dd023",
            "f6eac47590dc47dfbd3e78bfbfa2a785",
            "1560840ffde34e33aa45f379101bd4ca",
            "6854acdf26d347a08fe5ad1324aaef84",
            "57b5cc6598284be4b1e6d467072709fd",
            "67892fa6788b45ba9d261dacba8afb90",
            "25cfee5124cc4924af15e854aeb65aee"
          ]
        },
        "id": "tXdEWI6TKcFB",
        "outputId": "43073b63-d8e7-4a96-b2c7-425110211690"
      },
      "outputs": [],
      "source": [
        "conditional_pipeline = BinaryClassConditionalScoreSdeVePipeline(unconditional_pipeline.unet, unconditional_pipeline.scheduler)\n",
        "images = conditional_pipeline(model, batch_size=10, target=True, num_inference_steps=800).images\n",
        "t = PILToTensor()\n",
        "images[0]"
      ]
    },
    {
      "cell_type": "code",
      "execution_count": null,
      "metadata": {
        "id": "CaGsP0HwKcFH"
      },
      "outputs": [],
      "source": [
        "with torch.no_grad():\n",
        "    for image in images:\n",
        "        sample = (t(image) / 256).unsqueeze(0).to(device=DEVICE)\n",
        "        print(f\"Predicted: {model(sample, torch.zeros(1).to(DEVICE)).item()}\")"
      ]
    },
    {
      "cell_type": "code",
      "execution_count": null,
      "metadata": {
        "id": "soLFv9fXKcFH"
      },
      "outputs": [],
      "source": [
        "plot_image_grid(images)"
      ]
    }
  ],
  "metadata": {
    "accelerator": "GPU",
    "colab": {
      "collapsed_sections": [
        "385C_sWmqjL4"
      ],
      "gpuType": "V100",
      "machine_shape": "hm",
      "provenance": [],
      "toc_visible": true
    },
    "kernelspec": {
      "display_name": "Python 3",
      "name": "python3"
    },
    "language_info": {
      "codemirror_mode": {
        "name": "ipython",
        "version": 3
      },
      "file_extension": ".py",
      "mimetype": "text/x-python",
      "name": "python",
      "nbconvert_exporter": "python",
      "pygments_lexer": "ipython3",
      "version": "3.11.5"
    },
    "widgets": {
      "application/vnd.jupyter.widget-state+json": {
        "009cdd5a0f3140ddb4201ff9246db680": {
          "model_module": "@jupyter-widgets/controls",
          "model_module_version": "1.5.0",
          "model_name": "FloatProgressModel",
          "state": {
            "_dom_classes": [],
            "_model_module": "@jupyter-widgets/controls",
            "_model_module_version": "1.5.0",
            "_model_name": "FloatProgressModel",
            "_view_count": null,
            "_view_module": "@jupyter-widgets/controls",
            "_view_module_version": "1.5.0",
            "_view_name": "ProgressView",
            "bar_style": "success",
            "description": "",
            "description_tooltip": null,
            "layout": "IPY_MODEL_4845252d48314ada9b0094292f8a0a49",
            "max": 800,
            "min": 0,
            "orientation": "horizontal",
            "style": "IPY_MODEL_20388d9ed1e04c39901884ed84871314",
            "value": 800
          }
        },
        "1560840ffde34e33aa45f379101bd4ca": {
          "model_module": "@jupyter-widgets/controls",
          "model_module_version": "1.5.0",
          "model_name": "DescriptionStyleModel",
          "state": {
            "_model_module": "@jupyter-widgets/controls",
            "_model_module_version": "1.5.0",
            "_model_name": "DescriptionStyleModel",
            "_view_count": null,
            "_view_module": "@jupyter-widgets/base",
            "_view_module_version": "1.2.0",
            "_view_name": "StyleView",
            "description_width": ""
          }
        },
        "20388d9ed1e04c39901884ed84871314": {
          "model_module": "@jupyter-widgets/controls",
          "model_module_version": "1.5.0",
          "model_name": "ProgressStyleModel",
          "state": {
            "_model_module": "@jupyter-widgets/controls",
            "_model_module_version": "1.5.0",
            "_model_name": "ProgressStyleModel",
            "_view_count": null,
            "_view_module": "@jupyter-widgets/base",
            "_view_module_version": "1.2.0",
            "_view_name": "StyleView",
            "bar_color": null,
            "description_width": ""
          }
        },
        "20a0fd9b8079466b9157607218050759": {
          "model_module": "@jupyter-widgets/controls",
          "model_module_version": "1.5.0",
          "model_name": "DescriptionStyleModel",
          "state": {
            "_model_module": "@jupyter-widgets/controls",
            "_model_module_version": "1.5.0",
            "_model_name": "DescriptionStyleModel",
            "_view_count": null,
            "_view_module": "@jupyter-widgets/base",
            "_view_module_version": "1.2.0",
            "_view_name": "StyleView",
            "description_width": ""
          }
        },
        "25cfee5124cc4924af15e854aeb65aee": {
          "model_module": "@jupyter-widgets/controls",
          "model_module_version": "1.5.0",
          "model_name": "DescriptionStyleModel",
          "state": {
            "_model_module": "@jupyter-widgets/controls",
            "_model_module_version": "1.5.0",
            "_model_name": "DescriptionStyleModel",
            "_view_count": null,
            "_view_module": "@jupyter-widgets/base",
            "_view_module_version": "1.2.0",
            "_view_name": "StyleView",
            "description_width": ""
          }
        },
        "2a8061cd95964015a5f68b085648fc60": {
          "model_module": "@jupyter-widgets/controls",
          "model_module_version": "1.5.0",
          "model_name": "HBoxModel",
          "state": {
            "_dom_classes": [],
            "_model_module": "@jupyter-widgets/controls",
            "_model_module_version": "1.5.0",
            "_model_name": "HBoxModel",
            "_view_count": null,
            "_view_module": "@jupyter-widgets/controls",
            "_view_module_version": "1.5.0",
            "_view_name": "HBoxView",
            "box_style": "",
            "children": [
              "IPY_MODEL_dfac614dec034440a307f25ad942d85b",
              "IPY_MODEL_009cdd5a0f3140ddb4201ff9246db680",
              "IPY_MODEL_4acb5982102e4f6c9f42cea4c3b463d6"
            ],
            "layout": "IPY_MODEL_bc21a00d97714795a3c28f3609d93f4a"
          }
        },
        "38fbc94dd57945e78ae20c5725d4b284": {
          "model_module": "@jupyter-widgets/base",
          "model_module_version": "1.2.0",
          "model_name": "LayoutModel",
          "state": {
            "_model_module": "@jupyter-widgets/base",
            "_model_module_version": "1.2.0",
            "_model_name": "LayoutModel",
            "_view_count": null,
            "_view_module": "@jupyter-widgets/base",
            "_view_module_version": "1.2.0",
            "_view_name": "LayoutView",
            "align_content": null,
            "align_items": null,
            "align_self": null,
            "border": null,
            "bottom": null,
            "display": null,
            "flex": null,
            "flex_flow": null,
            "grid_area": null,
            "grid_auto_columns": null,
            "grid_auto_flow": null,
            "grid_auto_rows": null,
            "grid_column": null,
            "grid_gap": null,
            "grid_row": null,
            "grid_template_areas": null,
            "grid_template_columns": null,
            "grid_template_rows": null,
            "height": null,
            "justify_content": null,
            "justify_items": null,
            "left": null,
            "margin": null,
            "max_height": null,
            "max_width": null,
            "min_height": null,
            "min_width": null,
            "object_fit": null,
            "object_position": null,
            "order": null,
            "overflow": null,
            "overflow_x": null,
            "overflow_y": null,
            "padding": null,
            "right": null,
            "top": null,
            "visibility": null,
            "width": null
          }
        },
        "424ccf4f7fc64df9af0a61380a414091": {
          "model_module": "@jupyter-widgets/controls",
          "model_module_version": "1.5.0",
          "model_name": "HTMLModel",
          "state": {
            "_dom_classes": [],
            "_model_module": "@jupyter-widgets/controls",
            "_model_module_version": "1.5.0",
            "_model_name": "HTMLModel",
            "_view_count": null,
            "_view_module": "@jupyter-widgets/controls",
            "_view_module_version": "1.5.0",
            "_view_name": "HTMLView",
            "description": "",
            "description_tooltip": null,
            "layout": "IPY_MODEL_d9fac8e1391046bca84e08ae012376dc",
            "placeholder": "​",
            "style": "IPY_MODEL_e85fd41be9034f99a24a79c4913a0de1",
            "value": " 2/2 [00:00&lt;00:00,  5.98it/s]"
          }
        },
        "4845252d48314ada9b0094292f8a0a49": {
          "model_module": "@jupyter-widgets/base",
          "model_module_version": "1.2.0",
          "model_name": "LayoutModel",
          "state": {
            "_model_module": "@jupyter-widgets/base",
            "_model_module_version": "1.2.0",
            "_model_name": "LayoutModel",
            "_view_count": null,
            "_view_module": "@jupyter-widgets/base",
            "_view_module_version": "1.2.0",
            "_view_name": "LayoutView",
            "align_content": null,
            "align_items": null,
            "align_self": null,
            "border": null,
            "bottom": null,
            "display": null,
            "flex": null,
            "flex_flow": null,
            "grid_area": null,
            "grid_auto_columns": null,
            "grid_auto_flow": null,
            "grid_auto_rows": null,
            "grid_column": null,
            "grid_gap": null,
            "grid_row": null,
            "grid_template_areas": null,
            "grid_template_columns": null,
            "grid_template_rows": null,
            "height": null,
            "justify_content": null,
            "justify_items": null,
            "left": null,
            "margin": null,
            "max_height": null,
            "max_width": null,
            "min_height": null,
            "min_width": null,
            "object_fit": null,
            "object_position": null,
            "order": null,
            "overflow": null,
            "overflow_x": null,
            "overflow_y": null,
            "padding": null,
            "right": null,
            "top": null,
            "visibility": null,
            "width": null
          }
        },
        "493bd105aeff4436aaa16ca44c34830c": {
          "model_module": "@jupyter-widgets/controls",
          "model_module_version": "1.5.0",
          "model_name": "HBoxModel",
          "state": {
            "_dom_classes": [],
            "_model_module": "@jupyter-widgets/controls",
            "_model_module_version": "1.5.0",
            "_model_name": "HBoxModel",
            "_view_count": null,
            "_view_module": "@jupyter-widgets/controls",
            "_view_module_version": "1.5.0",
            "_view_name": "HBoxView",
            "box_style": "",
            "children": [
              "IPY_MODEL_8d0fe977c8df464f97fb36a884be4c39",
              "IPY_MODEL_805c22ec9fcd42d297d8a1dca6ae1f00",
              "IPY_MODEL_424ccf4f7fc64df9af0a61380a414091"
            ],
            "layout": "IPY_MODEL_f95ec32a7ef5490ea614a83514e734d9"
          }
        },
        "4acb5982102e4f6c9f42cea4c3b463d6": {
          "model_module": "@jupyter-widgets/controls",
          "model_module_version": "1.5.0",
          "model_name": "HTMLModel",
          "state": {
            "_dom_classes": [],
            "_model_module": "@jupyter-widgets/controls",
            "_model_module_version": "1.5.0",
            "_model_name": "HTMLModel",
            "_view_count": null,
            "_view_module": "@jupyter-widgets/controls",
            "_view_module_version": "1.5.0",
            "_view_name": "HTMLView",
            "description": "",
            "description_tooltip": null,
            "layout": "IPY_MODEL_de6e35ae0846442fbf9670f904560e21",
            "placeholder": "​",
            "style": "IPY_MODEL_9bbaf70c40b443298b27a85591bbaf58",
            "value": " 800/800 [02:15&lt;00:00,  5.88it/s]"
          }
        },
        "57b5cc6598284be4b1e6d467072709fd": {
          "model_module": "@jupyter-widgets/controls",
          "model_module_version": "1.5.0",
          "model_name": "ProgressStyleModel",
          "state": {
            "_model_module": "@jupyter-widgets/controls",
            "_model_module_version": "1.5.0",
            "_model_name": "ProgressStyleModel",
            "_view_count": null,
            "_view_module": "@jupyter-widgets/base",
            "_view_module_version": "1.2.0",
            "_view_name": "StyleView",
            "bar_color": null,
            "description_width": ""
          }
        },
        "67892fa6788b45ba9d261dacba8afb90": {
          "model_module": "@jupyter-widgets/base",
          "model_module_version": "1.2.0",
          "model_name": "LayoutModel",
          "state": {
            "_model_module": "@jupyter-widgets/base",
            "_model_module_version": "1.2.0",
            "_model_name": "LayoutModel",
            "_view_count": null,
            "_view_module": "@jupyter-widgets/base",
            "_view_module_version": "1.2.0",
            "_view_name": "LayoutView",
            "align_content": null,
            "align_items": null,
            "align_self": null,
            "border": null,
            "bottom": null,
            "display": null,
            "flex": null,
            "flex_flow": null,
            "grid_area": null,
            "grid_auto_columns": null,
            "grid_auto_flow": null,
            "grid_auto_rows": null,
            "grid_column": null,
            "grid_gap": null,
            "grid_row": null,
            "grid_template_areas": null,
            "grid_template_columns": null,
            "grid_template_rows": null,
            "height": null,
            "justify_content": null,
            "justify_items": null,
            "left": null,
            "margin": null,
            "max_height": null,
            "max_width": null,
            "min_height": null,
            "min_width": null,
            "object_fit": null,
            "object_position": null,
            "order": null,
            "overflow": null,
            "overflow_x": null,
            "overflow_y": null,
            "padding": null,
            "right": null,
            "top": null,
            "visibility": null,
            "width": null
          }
        },
        "6854acdf26d347a08fe5ad1324aaef84": {
          "model_module": "@jupyter-widgets/base",
          "model_module_version": "1.2.0",
          "model_name": "LayoutModel",
          "state": {
            "_model_module": "@jupyter-widgets/base",
            "_model_module_version": "1.2.0",
            "_model_name": "LayoutModel",
            "_view_count": null,
            "_view_module": "@jupyter-widgets/base",
            "_view_module_version": "1.2.0",
            "_view_name": "LayoutView",
            "align_content": null,
            "align_items": null,
            "align_self": null,
            "border": null,
            "bottom": null,
            "display": null,
            "flex": null,
            "flex_flow": null,
            "grid_area": null,
            "grid_auto_columns": null,
            "grid_auto_flow": null,
            "grid_auto_rows": null,
            "grid_column": null,
            "grid_gap": null,
            "grid_row": null,
            "grid_template_areas": null,
            "grid_template_columns": null,
            "grid_template_rows": null,
            "height": null,
            "justify_content": null,
            "justify_items": null,
            "left": null,
            "margin": null,
            "max_height": null,
            "max_width": null,
            "min_height": null,
            "min_width": null,
            "object_fit": null,
            "object_position": null,
            "order": null,
            "overflow": null,
            "overflow_x": null,
            "overflow_y": null,
            "padding": null,
            "right": null,
            "top": null,
            "visibility": null,
            "width": null
          }
        },
        "69d50f60cc144f61ab6fdac872bb5377": {
          "model_module": "@jupyter-widgets/controls",
          "model_module_version": "1.5.0",
          "model_name": "HTMLModel",
          "state": {
            "_dom_classes": [],
            "_model_module": "@jupyter-widgets/controls",
            "_model_module_version": "1.5.0",
            "_model_name": "HTMLModel",
            "_view_count": null,
            "_view_module": "@jupyter-widgets/controls",
            "_view_module_version": "1.5.0",
            "_view_name": "HTMLView",
            "description": "",
            "description_tooltip": null,
            "layout": "IPY_MODEL_67892fa6788b45ba9d261dacba8afb90",
            "placeholder": "​",
            "style": "IPY_MODEL_25cfee5124cc4924af15e854aeb65aee",
            "value": " 23/800 [00:21&lt;11:55,  1.09it/s]"
          }
        },
        "793bee5ebd2e45c2ba1c6d04d7767841": {
          "model_module": "@jupyter-widgets/base",
          "model_module_version": "1.2.0",
          "model_name": "LayoutModel",
          "state": {
            "_model_module": "@jupyter-widgets/base",
            "_model_module_version": "1.2.0",
            "_model_name": "LayoutModel",
            "_view_count": null,
            "_view_module": "@jupyter-widgets/base",
            "_view_module_version": "1.2.0",
            "_view_name": "LayoutView",
            "align_content": null,
            "align_items": null,
            "align_self": null,
            "border": null,
            "bottom": null,
            "display": null,
            "flex": null,
            "flex_flow": null,
            "grid_area": null,
            "grid_auto_columns": null,
            "grid_auto_flow": null,
            "grid_auto_rows": null,
            "grid_column": null,
            "grid_gap": null,
            "grid_row": null,
            "grid_template_areas": null,
            "grid_template_columns": null,
            "grid_template_rows": null,
            "height": null,
            "justify_content": null,
            "justify_items": null,
            "left": null,
            "margin": null,
            "max_height": null,
            "max_width": null,
            "min_height": null,
            "min_width": null,
            "object_fit": null,
            "object_position": null,
            "order": null,
            "overflow": null,
            "overflow_x": null,
            "overflow_y": null,
            "padding": null,
            "right": null,
            "top": null,
            "visibility": null,
            "width": null
          }
        },
        "7b916691958b44e0b301fc6903907e81": {
          "model_module": "@jupyter-widgets/controls",
          "model_module_version": "1.5.0",
          "model_name": "FloatProgressModel",
          "state": {
            "_dom_classes": [],
            "_model_module": "@jupyter-widgets/controls",
            "_model_module_version": "1.5.0",
            "_model_name": "FloatProgressModel",
            "_view_count": null,
            "_view_module": "@jupyter-widgets/controls",
            "_view_module_version": "1.5.0",
            "_view_name": "ProgressView",
            "bar_style": "danger",
            "description": "",
            "description_tooltip": null,
            "layout": "IPY_MODEL_6854acdf26d347a08fe5ad1324aaef84",
            "max": 800,
            "min": 0,
            "orientation": "horizontal",
            "style": "IPY_MODEL_57b5cc6598284be4b1e6d467072709fd",
            "value": 23
          }
        },
        "805c22ec9fcd42d297d8a1dca6ae1f00": {
          "model_module": "@jupyter-widgets/controls",
          "model_module_version": "1.5.0",
          "model_name": "FloatProgressModel",
          "state": {
            "_dom_classes": [],
            "_model_module": "@jupyter-widgets/controls",
            "_model_module_version": "1.5.0",
            "_model_name": "FloatProgressModel",
            "_view_count": null,
            "_view_module": "@jupyter-widgets/controls",
            "_view_module_version": "1.5.0",
            "_view_name": "ProgressView",
            "bar_style": "success",
            "description": "",
            "description_tooltip": null,
            "layout": "IPY_MODEL_793bee5ebd2e45c2ba1c6d04d7767841",
            "max": 2,
            "min": 0,
            "orientation": "horizontal",
            "style": "IPY_MODEL_e3cf9d0657554b209b65dd6d6668b08a",
            "value": 2
          }
        },
        "81873cdacb0e48f490d4dd16b63bdef9": {
          "model_module": "@jupyter-widgets/controls",
          "model_module_version": "1.5.0",
          "model_name": "HBoxModel",
          "state": {
            "_dom_classes": [],
            "_model_module": "@jupyter-widgets/controls",
            "_model_module_version": "1.5.0",
            "_model_name": "HBoxModel",
            "_view_count": null,
            "_view_module": "@jupyter-widgets/controls",
            "_view_module_version": "1.5.0",
            "_view_name": "HBoxView",
            "box_style": "",
            "children": [
              "IPY_MODEL_c842b22a21d24c1a83466480f13f088d",
              "IPY_MODEL_7b916691958b44e0b301fc6903907e81",
              "IPY_MODEL_69d50f60cc144f61ab6fdac872bb5377"
            ],
            "layout": "IPY_MODEL_9f87bd12dfb54d05b3f6af6c1b7dd023"
          }
        },
        "8d0fe977c8df464f97fb36a884be4c39": {
          "model_module": "@jupyter-widgets/controls",
          "model_module_version": "1.5.0",
          "model_name": "HTMLModel",
          "state": {
            "_dom_classes": [],
            "_model_module": "@jupyter-widgets/controls",
            "_model_module_version": "1.5.0",
            "_model_name": "HTMLModel",
            "_view_count": null,
            "_view_module": "@jupyter-widgets/controls",
            "_view_module_version": "1.5.0",
            "_view_name": "HTMLView",
            "description": "",
            "description_tooltip": null,
            "layout": "IPY_MODEL_38fbc94dd57945e78ae20c5725d4b284",
            "placeholder": "​",
            "style": "IPY_MODEL_afb08b03d52845ecb50be17d0476264b",
            "value": "Loading pipeline components...: 100%"
          }
        },
        "9bbaf70c40b443298b27a85591bbaf58": {
          "model_module": "@jupyter-widgets/controls",
          "model_module_version": "1.5.0",
          "model_name": "DescriptionStyleModel",
          "state": {
            "_model_module": "@jupyter-widgets/controls",
            "_model_module_version": "1.5.0",
            "_model_name": "DescriptionStyleModel",
            "_view_count": null,
            "_view_module": "@jupyter-widgets/base",
            "_view_module_version": "1.2.0",
            "_view_name": "StyleView",
            "description_width": ""
          }
        },
        "9f87bd12dfb54d05b3f6af6c1b7dd023": {
          "model_module": "@jupyter-widgets/base",
          "model_module_version": "1.2.0",
          "model_name": "LayoutModel",
          "state": {
            "_model_module": "@jupyter-widgets/base",
            "_model_module_version": "1.2.0",
            "_model_name": "LayoutModel",
            "_view_count": null,
            "_view_module": "@jupyter-widgets/base",
            "_view_module_version": "1.2.0",
            "_view_name": "LayoutView",
            "align_content": null,
            "align_items": null,
            "align_self": null,
            "border": null,
            "bottom": null,
            "display": null,
            "flex": null,
            "flex_flow": null,
            "grid_area": null,
            "grid_auto_columns": null,
            "grid_auto_flow": null,
            "grid_auto_rows": null,
            "grid_column": null,
            "grid_gap": null,
            "grid_row": null,
            "grid_template_areas": null,
            "grid_template_columns": null,
            "grid_template_rows": null,
            "height": null,
            "justify_content": null,
            "justify_items": null,
            "left": null,
            "margin": null,
            "max_height": null,
            "max_width": null,
            "min_height": null,
            "min_width": null,
            "object_fit": null,
            "object_position": null,
            "order": null,
            "overflow": null,
            "overflow_x": null,
            "overflow_y": null,
            "padding": null,
            "right": null,
            "top": null,
            "visibility": null,
            "width": null
          }
        },
        "afb08b03d52845ecb50be17d0476264b": {
          "model_module": "@jupyter-widgets/controls",
          "model_module_version": "1.5.0",
          "model_name": "DescriptionStyleModel",
          "state": {
            "_model_module": "@jupyter-widgets/controls",
            "_model_module_version": "1.5.0",
            "_model_name": "DescriptionStyleModel",
            "_view_count": null,
            "_view_module": "@jupyter-widgets/base",
            "_view_module_version": "1.2.0",
            "_view_name": "StyleView",
            "description_width": ""
          }
        },
        "bc21a00d97714795a3c28f3609d93f4a": {
          "model_module": "@jupyter-widgets/base",
          "model_module_version": "1.2.0",
          "model_name": "LayoutModel",
          "state": {
            "_model_module": "@jupyter-widgets/base",
            "_model_module_version": "1.2.0",
            "_model_name": "LayoutModel",
            "_view_count": null,
            "_view_module": "@jupyter-widgets/base",
            "_view_module_version": "1.2.0",
            "_view_name": "LayoutView",
            "align_content": null,
            "align_items": null,
            "align_self": null,
            "border": null,
            "bottom": null,
            "display": null,
            "flex": null,
            "flex_flow": null,
            "grid_area": null,
            "grid_auto_columns": null,
            "grid_auto_flow": null,
            "grid_auto_rows": null,
            "grid_column": null,
            "grid_gap": null,
            "grid_row": null,
            "grid_template_areas": null,
            "grid_template_columns": null,
            "grid_template_rows": null,
            "height": null,
            "justify_content": null,
            "justify_items": null,
            "left": null,
            "margin": null,
            "max_height": null,
            "max_width": null,
            "min_height": null,
            "min_width": null,
            "object_fit": null,
            "object_position": null,
            "order": null,
            "overflow": null,
            "overflow_x": null,
            "overflow_y": null,
            "padding": null,
            "right": null,
            "top": null,
            "visibility": null,
            "width": null
          }
        },
        "c842b22a21d24c1a83466480f13f088d": {
          "model_module": "@jupyter-widgets/controls",
          "model_module_version": "1.5.0",
          "model_name": "HTMLModel",
          "state": {
            "_dom_classes": [],
            "_model_module": "@jupyter-widgets/controls",
            "_model_module_version": "1.5.0",
            "_model_name": "HTMLModel",
            "_view_count": null,
            "_view_module": "@jupyter-widgets/controls",
            "_view_module_version": "1.5.0",
            "_view_name": "HTMLView",
            "description": "",
            "description_tooltip": null,
            "layout": "IPY_MODEL_f6eac47590dc47dfbd3e78bfbfa2a785",
            "placeholder": "​",
            "style": "IPY_MODEL_1560840ffde34e33aa45f379101bd4ca",
            "value": "  3%"
          }
        },
        "d9fac8e1391046bca84e08ae012376dc": {
          "model_module": "@jupyter-widgets/base",
          "model_module_version": "1.2.0",
          "model_name": "LayoutModel",
          "state": {
            "_model_module": "@jupyter-widgets/base",
            "_model_module_version": "1.2.0",
            "_model_name": "LayoutModel",
            "_view_count": null,
            "_view_module": "@jupyter-widgets/base",
            "_view_module_version": "1.2.0",
            "_view_name": "LayoutView",
            "align_content": null,
            "align_items": null,
            "align_self": null,
            "border": null,
            "bottom": null,
            "display": null,
            "flex": null,
            "flex_flow": null,
            "grid_area": null,
            "grid_auto_columns": null,
            "grid_auto_flow": null,
            "grid_auto_rows": null,
            "grid_column": null,
            "grid_gap": null,
            "grid_row": null,
            "grid_template_areas": null,
            "grid_template_columns": null,
            "grid_template_rows": null,
            "height": null,
            "justify_content": null,
            "justify_items": null,
            "left": null,
            "margin": null,
            "max_height": null,
            "max_width": null,
            "min_height": null,
            "min_width": null,
            "object_fit": null,
            "object_position": null,
            "order": null,
            "overflow": null,
            "overflow_x": null,
            "overflow_y": null,
            "padding": null,
            "right": null,
            "top": null,
            "visibility": null,
            "width": null
          }
        },
        "de6e35ae0846442fbf9670f904560e21": {
          "model_module": "@jupyter-widgets/base",
          "model_module_version": "1.2.0",
          "model_name": "LayoutModel",
          "state": {
            "_model_module": "@jupyter-widgets/base",
            "_model_module_version": "1.2.0",
            "_model_name": "LayoutModel",
            "_view_count": null,
            "_view_module": "@jupyter-widgets/base",
            "_view_module_version": "1.2.0",
            "_view_name": "LayoutView",
            "align_content": null,
            "align_items": null,
            "align_self": null,
            "border": null,
            "bottom": null,
            "display": null,
            "flex": null,
            "flex_flow": null,
            "grid_area": null,
            "grid_auto_columns": null,
            "grid_auto_flow": null,
            "grid_auto_rows": null,
            "grid_column": null,
            "grid_gap": null,
            "grid_row": null,
            "grid_template_areas": null,
            "grid_template_columns": null,
            "grid_template_rows": null,
            "height": null,
            "justify_content": null,
            "justify_items": null,
            "left": null,
            "margin": null,
            "max_height": null,
            "max_width": null,
            "min_height": null,
            "min_width": null,
            "object_fit": null,
            "object_position": null,
            "order": null,
            "overflow": null,
            "overflow_x": null,
            "overflow_y": null,
            "padding": null,
            "right": null,
            "top": null,
            "visibility": null,
            "width": null
          }
        },
        "dfac614dec034440a307f25ad942d85b": {
          "model_module": "@jupyter-widgets/controls",
          "model_module_version": "1.5.0",
          "model_name": "HTMLModel",
          "state": {
            "_dom_classes": [],
            "_model_module": "@jupyter-widgets/controls",
            "_model_module_version": "1.5.0",
            "_model_name": "HTMLModel",
            "_view_count": null,
            "_view_module": "@jupyter-widgets/controls",
            "_view_module_version": "1.5.0",
            "_view_name": "HTMLView",
            "description": "",
            "description_tooltip": null,
            "layout": "IPY_MODEL_e7ec747a0a704a7883aae9a9390fe84a",
            "placeholder": "​",
            "style": "IPY_MODEL_20a0fd9b8079466b9157607218050759",
            "value": "100%"
          }
        },
        "e3cf9d0657554b209b65dd6d6668b08a": {
          "model_module": "@jupyter-widgets/controls",
          "model_module_version": "1.5.0",
          "model_name": "ProgressStyleModel",
          "state": {
            "_model_module": "@jupyter-widgets/controls",
            "_model_module_version": "1.5.0",
            "_model_name": "ProgressStyleModel",
            "_view_count": null,
            "_view_module": "@jupyter-widgets/base",
            "_view_module_version": "1.2.0",
            "_view_name": "StyleView",
            "bar_color": null,
            "description_width": ""
          }
        },
        "e7ec747a0a704a7883aae9a9390fe84a": {
          "model_module": "@jupyter-widgets/base",
          "model_module_version": "1.2.0",
          "model_name": "LayoutModel",
          "state": {
            "_model_module": "@jupyter-widgets/base",
            "_model_module_version": "1.2.0",
            "_model_name": "LayoutModel",
            "_view_count": null,
            "_view_module": "@jupyter-widgets/base",
            "_view_module_version": "1.2.0",
            "_view_name": "LayoutView",
            "align_content": null,
            "align_items": null,
            "align_self": null,
            "border": null,
            "bottom": null,
            "display": null,
            "flex": null,
            "flex_flow": null,
            "grid_area": null,
            "grid_auto_columns": null,
            "grid_auto_flow": null,
            "grid_auto_rows": null,
            "grid_column": null,
            "grid_gap": null,
            "grid_row": null,
            "grid_template_areas": null,
            "grid_template_columns": null,
            "grid_template_rows": null,
            "height": null,
            "justify_content": null,
            "justify_items": null,
            "left": null,
            "margin": null,
            "max_height": null,
            "max_width": null,
            "min_height": null,
            "min_width": null,
            "object_fit": null,
            "object_position": null,
            "order": null,
            "overflow": null,
            "overflow_x": null,
            "overflow_y": null,
            "padding": null,
            "right": null,
            "top": null,
            "visibility": null,
            "width": null
          }
        },
        "e85fd41be9034f99a24a79c4913a0de1": {
          "model_module": "@jupyter-widgets/controls",
          "model_module_version": "1.5.0",
          "model_name": "DescriptionStyleModel",
          "state": {
            "_model_module": "@jupyter-widgets/controls",
            "_model_module_version": "1.5.0",
            "_model_name": "DescriptionStyleModel",
            "_view_count": null,
            "_view_module": "@jupyter-widgets/base",
            "_view_module_version": "1.2.0",
            "_view_name": "StyleView",
            "description_width": ""
          }
        },
        "f6eac47590dc47dfbd3e78bfbfa2a785": {
          "model_module": "@jupyter-widgets/base",
          "model_module_version": "1.2.0",
          "model_name": "LayoutModel",
          "state": {
            "_model_module": "@jupyter-widgets/base",
            "_model_module_version": "1.2.0",
            "_model_name": "LayoutModel",
            "_view_count": null,
            "_view_module": "@jupyter-widgets/base",
            "_view_module_version": "1.2.0",
            "_view_name": "LayoutView",
            "align_content": null,
            "align_items": null,
            "align_self": null,
            "border": null,
            "bottom": null,
            "display": null,
            "flex": null,
            "flex_flow": null,
            "grid_area": null,
            "grid_auto_columns": null,
            "grid_auto_flow": null,
            "grid_auto_rows": null,
            "grid_column": null,
            "grid_gap": null,
            "grid_row": null,
            "grid_template_areas": null,
            "grid_template_columns": null,
            "grid_template_rows": null,
            "height": null,
            "justify_content": null,
            "justify_items": null,
            "left": null,
            "margin": null,
            "max_height": null,
            "max_width": null,
            "min_height": null,
            "min_width": null,
            "object_fit": null,
            "object_position": null,
            "order": null,
            "overflow": null,
            "overflow_x": null,
            "overflow_y": null,
            "padding": null,
            "right": null,
            "top": null,
            "visibility": null,
            "width": null
          }
        },
        "f95ec32a7ef5490ea614a83514e734d9": {
          "model_module": "@jupyter-widgets/base",
          "model_module_version": "1.2.0",
          "model_name": "LayoutModel",
          "state": {
            "_model_module": "@jupyter-widgets/base",
            "_model_module_version": "1.2.0",
            "_model_name": "LayoutModel",
            "_view_count": null,
            "_view_module": "@jupyter-widgets/base",
            "_view_module_version": "1.2.0",
            "_view_name": "LayoutView",
            "align_content": null,
            "align_items": null,
            "align_self": null,
            "border": null,
            "bottom": null,
            "display": null,
            "flex": null,
            "flex_flow": null,
            "grid_area": null,
            "grid_auto_columns": null,
            "grid_auto_flow": null,
            "grid_auto_rows": null,
            "grid_column": null,
            "grid_gap": null,
            "grid_row": null,
            "grid_template_areas": null,
            "grid_template_columns": null,
            "grid_template_rows": null,
            "height": null,
            "justify_content": null,
            "justify_items": null,
            "left": null,
            "margin": null,
            "max_height": null,
            "max_width": null,
            "min_height": null,
            "min_width": null,
            "object_fit": null,
            "object_position": null,
            "order": null,
            "overflow": null,
            "overflow_x": null,
            "overflow_y": null,
            "padding": null,
            "right": null,
            "top": null,
            "visibility": null,
            "width": null
          }
        }
      }
    }
  },
  "nbformat": 4,
  "nbformat_minor": 0
}
