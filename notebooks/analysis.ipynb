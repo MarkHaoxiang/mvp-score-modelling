{
 "cells": [
  {
   "cell_type": "markdown",
   "metadata": {},
   "source": [
    "# Quantiative Analysis"
   ]
  },
  {
   "cell_type": "markdown",
   "metadata": {},
   "source": [
    "### Accuracy"
   ]
  },
  {
   "cell_type": "code",
   "execution_count": null,
   "metadata": {},
   "outputs": [],
   "source": [
    "import torch\n",
    "import os\n",
    "from torchvision.io import read_image\n",
    "from mvp_score_modelling.utils import crop, resize"
   ]
  },
  {
   "cell_type": "code",
   "execution_count": null,
   "metadata": {},
   "outputs": [],
   "source": [
    "# Accuracy Calculation\n",
    "DEVICE = 'cuda' if torch.cuda.is_available() else 'cpu'\n",
    "DATA_PATH = \"../output/class_conditional_inference/test/all\"\n",
    "\n",
    "model = torch.load(\"../checkpoints/noise-conditional.pt\")\n",
    "sigma = torch.zeros(1).to(DEVICE)\n",
    "\n",
    "total = 0\n",
    "accurate = 0\n",
    "for img_path in os.listdir(DATA_PATH):\n",
    "    path = os.path.join(DATA_PATH, img_path)\n",
    "    _, _, target, _ = img_path.split(\"_\")\n",
    "\n",
    "    target = int(target[1:])\n",
    "    if target == 1: # One gender...\n",
    "        continue \n",
    "    \n",
    "    eval_img = crop(resize(read_image(path))) / 256\n",
    "    eval_img = eval_img.to(DEVICE).unsqueeze(0)\n",
    "    predicted_class = model(eval_img, sigma).argmax(1).item()\n",
    "    total += 1\n",
    "    if target == predicted_class:\n",
    "        accurate += 1\n",
    "\n",
    "print(accurate / total)\n"
   ]
  },
  {
   "cell_type": "markdown",
   "metadata": {},
   "source": [
    "Unconditional\n",
    "TODO\n",
    "\n",
    "Noise conditional\n",
    "Women: 0.858\n",
    "Men: 0.522\n",
    "FID Score: 1.054"
   ]
  }
 ],
 "metadata": {
  "kernelspec": {
   "display_name": "venv311",
   "language": "python",
   "name": "python3"
  },
  "language_info": {
   "codemirror_mode": {
    "name": "ipython",
    "version": 3
   },
   "file_extension": ".py",
   "mimetype": "text/x-python",
   "name": "python",
   "nbconvert_exporter": "python",
   "pygments_lexer": "ipython3",
   "version": "3.11.5"
  }
 },
 "nbformat": 4,
 "nbformat_minor": 2
}
