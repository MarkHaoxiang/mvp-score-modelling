{
 "cells": [
  {
   "cell_type": "markdown",
   "metadata": {},
   "source": [
    "# Inverse Modeling Exploration"
   ]
  },
  {
   "cell_type": "code",
   "execution_count": null,
   "metadata": {},
   "outputs": [],
   "source": [
    "# Imports\n",
    "from typing import List, Optional, Tuple, Union\n",
    "\n",
    "import torch\n",
    "import torch.nn as nn\n",
    "from torchvision.transforms import Resize, ToPILImage, GaussianBlur, CenterCrop\n",
    "from torchvision.io import read_image\n",
    "from diffusers.pipelines import ScoreSdeVePipeline\n",
    "from diffusers.utils.torch_utils import randn_tensor\n",
    "from diffusers.pipelines.pipeline_utils import ImagePipelineOutput\n",
    "from matplotlib import pyplot as plt\n",
    "from IPython.display import display\n",
    "from torchmetrics.image.lpip import LearnedPerceptualImagePatchSimilarity\n",
    "from torchmetrics.image.ssim import StructuralSimilarityIndexMeasure\n",
    "\n",
    "from mvp_score_modelling.utils import (\n",
    "    crop,\n",
    "    resize,\n",
    "    tensor_to_PIL,\n",
    "    plt_img\n",
    ")\n",
    "from mvp_score_modelling.pipelines import (\n",
    "    VeTweedie,\n",
    "    CustomConditionalScoreVePipeline\n",
    ")\n",
    "\n",
    "DEVICE = 'cuda' if torch.cuda.is_available() else 'cpu'\n",
    "PRETRAINED = \"google/ncsnpp-celebahq-256\"\n",
    "EVAL_IMAGE = \"test_celabhq.png\"\n",
    "INFERENCE_STEPS = 1000\n",
    "\n",
    "eval_img = crop(resize(read_image(EVAL_IMAGE))) / 256\n",
    "eval_img = eval_img.to(DEVICE)\n",
    "display(tensor_to_PIL(eval_img))\n"
   ]
  },
  {
   "cell_type": "code",
   "execution_count": null,
   "metadata": {},
   "outputs": [],
   "source": [
    "# Metrics\n",
    "lpips = LearnedPerceptualImagePatchSimilarity().to(DEVICE)\n",
    "def lpips_eval(img, reference = None):\n",
    "    if reference == None:\n",
    "        reference = eval_img.unsqueeze(0)\n",
    "    return round(lpips(reference, img.to(DEVICE)).item(), 4)\n",
    "\n",
    "ssim = StructuralSimilarityIndexMeasure().to(DEVICE)\n",
    "def ssim_eval(img, reference = None):\n",
    "    if reference == None:\n",
    "        reference = eval_img.unsqueeze(0)\n",
    "    return round(ssim(reference, img.to(DEVICE)).item(), 4)\n"
   ]
  },
  {
   "cell_type": "markdown",
   "metadata": {},
   "source": [
    "## Score-Based Generative Modeling Through Stochastic Differential Equations\n",
    "Yang Song"
   ]
  },
  {
   "cell_type": "code",
   "execution_count": null,
   "metadata": {},
   "outputs": [],
   "source": [
    "unconditional_pipeline: ScoreSdeVePipeline = ScoreSdeVePipeline.from_pretrained(PRETRAINED).to(device=DEVICE)\n",
    "tweedie = VeTweedie(unconditional_pipeline.unet)\n",
    "images = unconditional_pipeline(num_inference_steps=INFERENCE_STEPS).images\n",
    "display(images[0])"
   ]
  },
  {
   "cell_type": "code",
   "execution_count": null,
   "metadata": {},
   "outputs": [],
   "source": [
    "INITIAL_START = int(INFERENCE_STEPS * 0.5)\n",
    "\n",
    "sigma = unconditional_pipeline.scheduler.sigmas[INFERENCE_STEPS-INITIAL_START]\n",
    "z = torch.randn_like(eval_img) * sigma\n",
    "\n",
    "noised_eval_image = eval_img + z\n",
    "pipeline = CustomConditionalScoreVePipeline(\n",
    "    unconditional_pipeline.unet,\n",
    "    unconditional_pipeline.scheduler\n",
    ").to(DEVICE)\n",
    "images = pipeline(\n",
    "    num_inference_steps=INFERENCE_STEPS,\n",
    "    initial_sample=(noised_eval_image.unsqueeze(0), INITIAL_START),\n",
    "    output_type = None\n",
    ")"
   ]
  },
  {
   "cell_type": "code",
   "execution_count": null,
   "metadata": {},
   "outputs": [],
   "source": [
    "fig, axs = plt.subplots(1,3)\n",
    "for ax in axs:\n",
    "    ax.axis('off')\n",
    "\n",
    "axs[0].set_title(\"Original\")\n",
    "axs[0].text(0,300,\"lpips\")\n",
    "axs[0].text(0,340,\"ssim\")\n",
    "plt_img(axs[0], eval_img)\n",
    "axs[1].set_title(\"One-step denoised\")\n",
    "axs[1].text(0,300,lpips_eval(tweedie(noised_eval_image, sigma)))\n",
    "axs[1].text(0,340,ssim_eval(tweedie(noised_eval_image, sigma)))\n",
    "plt_img(axs[1], tweedie(noised_eval_image,sigma).squeeze())\n",
    "axs[2].set_title(\"Generated\")\n",
    "axs[2].text(0,300,lpips_eval(images[0].unsqueeze(0)))\n",
    "axs[2].text(0,340,ssim_eval(images[0].unsqueeze(0)))\n",
    "plt_img(axs[2], images[0])"
   ]
  },
  {
   "cell_type": "code",
   "execution_count": null,
   "metadata": {},
   "outputs": [],
   "source": [
    "round(lpips(eval_img.unsqueeze(0), images[0].unsqueeze(0)).item(),3)"
   ]
  }
 ],
 "metadata": {
  "kernelspec": {
   "display_name": "venv311",
   "language": "python",
   "name": "python3"
  },
  "language_info": {
   "codemirror_mode": {
    "name": "ipython",
    "version": 3
   },
   "file_extension": ".py",
   "mimetype": "text/x-python",
   "name": "python",
   "nbconvert_exporter": "python",
   "pygments_lexer": "ipython3",
   "version": "3.11.5"
  }
 },
 "nbformat": 4,
 "nbformat_minor": 2
}
