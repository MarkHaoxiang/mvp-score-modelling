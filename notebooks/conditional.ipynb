{
 "cells": [
  {
   "cell_type": "markdown",
   "metadata": {},
   "source": [
    "# Inverse Modeling Exploration"
   ]
  },
  {
   "cell_type": "code",
   "execution_count": null,
   "metadata": {},
   "outputs": [],
   "source": [
    "# Imports\n",
    "from typing import List\n",
    "\n",
    "import torch\n",
    "import torch.nn as nn\n",
    "from torchvision.io import read_image\n",
    "from diffusers.pipelines import ScoreSdeVePipeline\n",
    "from matplotlib import pyplot as plt\n",
    "from IPython.display import display\n",
    "from torchmetrics.image.lpip import LearnedPerceptualImagePatchSimilarity\n",
    "from torchmetrics.image.ssim import StructuralSimilarityIndexMeasure\n",
    "\n",
    "from mvp_score_modelling.utils import (\n",
    "    crop,\n",
    "    resize,\n",
    "    tensor_to_PIL,\n",
    "    plt_img\n",
    ")\n",
    "from mvp_score_modelling.pipelines.utils import (\n",
    "    VeTweedie,\n",
    "    CustomConditionalScoreVePipeline,\n",
    ")\n",
    "from mvp_score_modelling.pipelines.superresolution import (\n",
    "    PseudoinverseGuidedSuperResolutionPipeline,\n",
    "    SuperResolutionProjectionPipeline,\n",
    "    PrYtGuidedSuperResolutionPipeline\n",
    ")\n",
    "from mvp_score_modelling.pipelines.colorisation import (\n",
    "    greyscale,\n",
    "    ColorisationProjectionPipeline,\n",
    "    PrYtGuidedColorisationPipeline\n",
    ")\n",
    "\n",
    "DEVICE = 'cuda' if torch.cuda.is_available() else 'cpu'\n",
    "PRETRAINED = \"google/ncsnpp-celebahq-256\"\n",
    "EVAL_IMAGE = \"data/test_celabhq.png\"\n",
    "INFERENCE_STEPS = 1000\n",
    "\n",
    "eval_img = crop(resize(read_image(EVAL_IMAGE))) / 256\n",
    "eval_img = eval_img.to(DEVICE)\n",
    "display(tensor_to_PIL(eval_img))"
   ]
  },
  {
   "cell_type": "code",
   "execution_count": null,
   "metadata": {},
   "outputs": [],
   "source": [
    "# Metrics\n",
    "lpips = LearnedPerceptualImagePatchSimilarity().to(DEVICE)\n",
    "def lpips_eval(img, reference = None):\n",
    "    if reference == None:\n",
    "        reference = eval_img.unsqueeze(0)\n",
    "    return round(lpips(reference, img.to(DEVICE)).item(), 4)\n",
    "\n",
    "ssim = StructuralSimilarityIndexMeasure().to(DEVICE)\n",
    "def ssim_eval(img, reference = None):\n",
    "    if reference == None:\n",
    "        reference = eval_img.unsqueeze(0)\n",
    "    return round(ssim(reference, img.to(DEVICE)).item(), 4)\n",
    "\n",
    "# Utils\n",
    "def run_pipelines(y, pipelines, unet, scheduler):\n",
    "    images = []\n",
    "    for p_class in pipelines:\n",
    "        pipeline = p_class(unet, scheduler)\n",
    "        img = pipeline(\n",
    "            y,\n",
    "            num_inference_steps=INFERENCE_STEPS,\n",
    "            output_type=None\n",
    "        )[0]\n",
    "        images.append(img)\n",
    "    return images\n",
    "\n",
    "def show_pipeline_results(\n",
    "        reference,\n",
    "        y,\n",
    "        images: List[torch.Tensor],\n",
    "        measurement_function,\n",
    "        denoiser=None\n",
    "    ):\n",
    "    fig, axs = plt.subplots(1,len(images) + 1)\n",
    "    for ax in axs:\n",
    "        ax.axis('off')\n",
    "    plt_img(axs[0], reference)\n",
    "    axs[0].text(0,300, \"y error\")\n",
    "    for i, img in enumerate(images):\n",
    "        ax = axs[i+1]\n",
    "        if not denoiser is None:\n",
    "            img = denoiser(img)\n",
    "        y_s = measurement_function(img)\n",
    "        mse = torch.mean((y_s-y)**2).item()     \n",
    "        plt_img(ax, img.squeeze())\n",
    "        ax.text(0, 300, f\"{mse:.3g}\")"
   ]
  },
  {
   "cell_type": "markdown",
   "metadata": {},
   "source": [
    "## Score-Based Generative Modeling Through Stochastic Differential Equations\n",
    "Yang Song"
   ]
  },
  {
   "cell_type": "code",
   "execution_count": null,
   "metadata": {},
   "outputs": [],
   "source": [
    "unconditional_pipeline: ScoreSdeVePipeline = ScoreSdeVePipeline.from_pretrained(PRETRAINED).to(device=DEVICE)\n",
    "tweedie = VeTweedie(unconditional_pipeline.unet)\n",
    "images = unconditional_pipeline(num_inference_steps=INFERENCE_STEPS).images\n",
    "display(images[0])\n",
    "denoiser = lambda x: tweedie(x, unconditional_pipeline.scheduler.sigmas[-1])"
   ]
  },
  {
   "cell_type": "code",
   "execution_count": null,
   "metadata": {},
   "outputs": [],
   "source": [
    "INITIAL_START = int(INFERENCE_STEPS * 0.5)\n",
    "\n",
    "sigma = unconditional_pipeline.scheduler.sigmas[INFERENCE_STEPS-INITIAL_START]\n",
    "z = torch.randn_like(eval_img) * sigma\n",
    "\n",
    "noised_eval_image = eval_img + z\n",
    "pipeline = CustomConditionalScoreVePipeline(\n",
    "    unconditional_pipeline.unet,\n",
    "    unconditional_pipeline.scheduler\n",
    ").to(DEVICE)\n",
    "images = pipeline(\n",
    "    num_inference_steps=INFERENCE_STEPS,\n",
    "    initial_sample=(noised_eval_image.unsqueeze(0), INITIAL_START),\n",
    "    output_type = None\n",
    ")"
   ]
  },
  {
   "cell_type": "code",
   "execution_count": null,
   "metadata": {},
   "outputs": [],
   "source": [
    "fig, axs = plt.subplots(1,3)\n",
    "for ax in axs:\n",
    "    ax.axis('off')\n",
    "\n",
    "axs[0].set_title(\"Original\")\n",
    "axs[0].text(0,300,\"lpips\")\n",
    "axs[0].text(0,340,\"ssim\")\n",
    "plt_img(axs[0], eval_img)\n",
    "axs[1].set_title(\"One-step denoised\")\n",
    "axs[1].text(0,300,lpips_eval(tweedie(noised_eval_image, sigma)))\n",
    "axs[1].text(0,340,ssim_eval(tweedie(noised_eval_image, sigma)))\n",
    "plt_img(axs[1], tweedie(noised_eval_image,sigma).squeeze())\n",
    "axs[2].set_title(\"Generated\")\n",
    "axs[2].text(0,300,lpips_eval(images[0].unsqueeze(0)))\n",
    "axs[2].text(0,340,ssim_eval(images[0].unsqueeze(0)))\n",
    "plt_img(axs[2], images[0])"
   ]
  },
  {
   "cell_type": "markdown",
   "metadata": {},
   "source": [
    "# Super-resolution"
   ]
  },
  {
   "cell_type": "code",
   "execution_count": null,
   "metadata": {},
   "outputs": [],
   "source": [
    "KERNEL_SIZE = 16\n",
    "pool = nn.AvgPool2d(kernel_size=KERNEL_SIZE, stride=KERNEL_SIZE)\n",
    "downsampled_img = pool(eval_img).to(device=DEVICE)\n",
    "\n",
    "pipelines = [\n",
    "    SuperResolutionProjectionPipeline,\n",
    "    PrYtGuidedSuperResolutionPipeline,\n",
    "    PseudoinverseGuidedSuperResolutionPipeline\n",
    "]\n",
    "\n",
    "images = run_pipelines(\n",
    "    y = (downsampled_img, KERNEL_SIZE),\n",
    "    pipelines = pipelines,\n",
    "    unet=unconditional_pipeline.unet,\n",
    "    scheduler=unconditional_pipeline.scheduler\n",
    ")\n",
    "\n",
    "show_pipeline_results(\n",
    "    SuperResolutionProjectionPipeline.upscale(downsampled_img, KERNEL_SIZE),\n",
    "    downsampled_img,\n",
    "    images,\n",
    "    pool\n",
    ")"
   ]
  },
  {
   "cell_type": "markdown",
   "metadata": {},
   "source": [
    "# Colorisation"
   ]
  },
  {
   "cell_type": "code",
   "execution_count": null,
   "metadata": {},
   "outputs": [],
   "source": [
    "grey = greyscale(eval_img)\n",
    "\n",
    "pipelines = [\n",
    "    ColorisationProjectionPipeline,\n",
    "    PrYtGuidedColorisationPipeline\n",
    "]\n",
    "images = run_pipelines(\n",
    "    grey,\n",
    "    pipelines,\n",
    "    unconditional_pipeline.unet,\n",
    "    unconditional_pipeline.scheduler\n",
    ")\n",
    "show_pipeline_results(grey.squeeze(), grey, images, greyscale)"
   ]
  },
  {
   "cell_type": "code",
   "execution_count": null,
   "metadata": {},
   "outputs": [],
   "source": []
  }
 ],
 "metadata": {
  "kernelspec": {
   "display_name": "venv311",
   "language": "python",
   "name": "python3"
  },
  "language_info": {
   "codemirror_mode": {
    "name": "ipython",
    "version": 3
   },
   "file_extension": ".py",
   "mimetype": "text/x-python",
   "name": "python",
   "nbconvert_exporter": "python",
   "pygments_lexer": "ipython3",
   "version": "3.11.5"
  }
 },
 "nbformat": 4,
 "nbformat_minor": 2
}
