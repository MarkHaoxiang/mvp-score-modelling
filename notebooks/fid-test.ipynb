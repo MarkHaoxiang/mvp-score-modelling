{
 "cells": [
  {
   "cell_type": "code",
   "execution_count": 19,
   "metadata": {},
   "outputs": [],
   "source": [
    "import torch\n",
    "from torchmetrics.image.fid import FrechetInceptionDistance\n",
    "from torchvision.transforms import Resize, Compose, ToTensor, Normalize\n",
    "from torchvision.datasets import ImageFolder\n",
    "from torchvision.utils import make_grid\n",
    "import matplotlib.pyplot as plt\n",
    "from PIL import Image\n",
    "import numpy as np"
   ]
  },
  {
   "cell_type": "code",
   "execution_count": 37,
   "metadata": {},
   "outputs": [],
   "source": [
    "def show_img(img: Image, size = 3, title=None) -> None:\n",
    "    plt.figure(figsize=(size, size))\n",
    "    plt.imshow(img)\n",
    "    plt.axis('off')\n",
    "    if title != None:\n",
    "        plt.title(title)\n",
    "    plt.show()\n",
    "\n",
    "def show_tensor(ts: torch.Tensor, size = 3, title=None) -> None:\n",
    "    \"\"\"ts: (B, C, H, W) or (C, H, W)\"\"\"\n",
    "    if len(ts.shape) == 4:\n",
    "        img = make_grid(ts, nrow=1, padding=0).permute(1, 2, 0)\n",
    "    elif len(ts.shape) == 3:\n",
    "        img = ts.permute(1, 2, 0)\n",
    "    else:\n",
    "        raise ValueError(f\"ts should be (B, C, H, W) or (C, H, W), but got {ts.shape}\")\n",
    "    show_img(img, size, title)\n",
    "\n",
    "def tensor_to_image(ts: torch.Tensor) -> Image:\n",
    "    img_np = ts.squeeze().permute(1, 2, 0).cpu().numpy()\n",
    "    img_np = (img_np * 255).astype(np.uint8)  # Rescale back to 0-255 range\n",
    "    return Image.fromarray(img_np)"
   ]
  },
  {
   "cell_type": "code",
   "execution_count": 78,
   "metadata": {},
   "outputs": [],
   "source": []
  },
  {
   "cell_type": "code",
   "execution_count": 6,
   "metadata": {},
   "outputs": [],
   "source": [
    "def load_images(image_folder, batch_size, transforms):\n",
    "    dataset = ImageFolder(root=image_folder, transform=transforms)\n",
    "    loader = torch.utils.data.DataLoader(dataset, batch_size=batch_size, shuffle=True)\n",
    "    return loader\n",
    "\n",
    "def calculate_fid(real_images_loader, generated_images_loader, fid):\n",
    "    for real_batch, _ in real_images_loader:\n",
    "        fid.update(real_batch, real=True)\n",
    "\n",
    "    for gen_batch, _ in generated_images_loader:\n",
    "        fid.update(gen_batch, real=False)\n",
    "\n",
    "    fid_score = fid.compute()\n",
    "    return fid_score"
   ]
  },
  {
   "cell_type": "code",
   "execution_count": 116,
   "metadata": {},
   "outputs": [],
   "source": [
    "image_size = 299  # InceptionV3 input size\n",
    "batch_size = 32\n",
    "transforms = Compose([Resize((image_size, image_size)), ToTensor()])\n",
    "                    #   Normalize((0.485, 0.456, 0.406), (0.229, 0.224, 0.225))])\n",
    "\n",
    "real_path = \"../output/images/real\"\n",
    "generated_path = \"../output/images/generated\"\n",
    "real_images_loader = load_images(real_path, batch_size, transforms)\n",
    "generated_images_loader = load_images(generated_path, batch_size, transforms)"
   ]
  },
  {
   "cell_type": "code",
   "execution_count": 117,
   "metadata": {},
   "outputs": [
    {
     "name": "stdout",
     "output_type": "stream",
     "text": [
      "FID Score: 4.100490124266012\n"
     ]
    }
   ],
   "source": [
    "torch.manual_seed(0)\n",
    "fid = FrechetInceptionDistance(feature=64, normalize=True).set_dtype(torch.float64)\n",
    "fid_score = calculate_fid(real_images_loader, generated_images_loader, fid)\n",
    "print(f\"FID Score: {fid_score}\")"
   ]
  }
 ],
 "metadata": {
  "kernelspec": {
   "display_name": "ml_env",
   "language": "python",
   "name": "python3"
  },
  "language_info": {
   "codemirror_mode": {
    "name": "ipython",
    "version": 3
   },
   "file_extension": ".py",
   "mimetype": "text/x-python",
   "name": "python",
   "nbconvert_exporter": "python",
   "pygments_lexer": "ipython3",
   "version": "3.8.18"
  }
 },
 "nbformat": 4,
 "nbformat_minor": 2
}
